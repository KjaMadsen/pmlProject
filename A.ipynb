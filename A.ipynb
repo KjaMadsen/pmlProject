{
 "cells": [
  {
   "cell_type": "code",
   "execution_count": null,
   "metadata": {},
   "outputs": [],
   "source": [
    "from __future__ import print_function\n",
    "import argparse\n",
    "import torch\n",
    "import torch.utils.data\n",
    "from torch import nn, optim\n",
    "from torch.nn import functional as F\n",
    "from torchvision import datasets, transforms\n",
    "from torchvision.utils import save_image\n",
    "\n",
    "import matplotlib.pyplot as plt\n",
    "import numpy as np\n",
    "import os"
   ]
  },
  {
   "attachments": {},
   "cell_type": "markdown",
   "metadata": {},
   "source": [
    "# A1"
   ]
  },
  {
   "cell_type": "code",
   "execution_count": null,
   "metadata": {},
   "outputs": [],
   "source": [
    "cuda = torch.cuda.is_available()\n",
    "batch_size = 128\n",
    "log_interval = 10\n",
    "num_epochs = 10\n",
    "\n",
    "torch.manual_seed(1) # args.seed\n",
    "\n",
    "device = torch.device(\"cuda\" if cuda else \"cpu\") # args.cuda\n",
    "kwargs = {'num_workers': 1, 'pin_memory': True} if cuda else {} # args.cuda\n",
    "\n",
    "# Get train and test data\n",
    "train_loader = torch.utils.data.DataLoader(\n",
    "    datasets.MNIST('../data', train=True, download=True,\n",
    "                   transform=transforms.ToTensor()),\n",
    "    batch_size=batch_size, shuffle=True, **kwargs)\n",
    "test_loader = torch.utils.data.DataLoader(\n",
    "    datasets.MNIST('../data', train=False, transform=transforms.ToTensor()),\n",
    "    batch_size=1, shuffle=True, **kwargs)\n",
    "\n"
   ]
  },
  {
   "cell_type": "code",
   "execution_count": null,
   "metadata": {},
   "outputs": [],
   "source": [
    "# Reconstruction + KL divergence losses summed over all elements and batch\n",
    "def loss_function(recon_x, x, mu, logvar):\n",
    "    BCE = F.binary_cross_entropy(recon_x, x.squeeze(1), reduction='sum')\n",
    "    KLD = -0.5 * torch.sum(1 + logvar - mu.pow(2) - logvar.exp())\n",
    "    return BCE + KLD # -ELBO\n",
    "\n",
    "\n",
    "def train(epoch, model, optimizer):\n",
    "    model.train() # so that everything has gradients and we can do backprop and so on...\n",
    "    train_loss = 0\n",
    "    for batch_idx, (data, _) in enumerate(train_loader):\n",
    "        data = data.to(device)\n",
    "        optimizer.zero_grad() # \"reset\" gradients to 0 for text iteration\n",
    "        recon_batch, mu, logvar = model(data)\n",
    "        loss = loss_function(recon_batch, data, mu, logvar)\n",
    "        loss.backward() # calc gradients\n",
    "        train_loss += loss.item()\n",
    "        optimizer.step() # backpropagation\n",
    "\n",
    "    print('====> Epoch: {} Average loss: {:.4f}'.format(\n",
    "          epoch, train_loss / len(train_loader.dataset)))\n",
    "\n",
    "\n",
    "def test(epoch, model):\n",
    "    model.eval()\n",
    "    test_loss = 0\n",
    "    with torch.no_grad(): # no_grad turns of gradients...\n",
    "        for i, (data, _) in enumerate(test_loader):\n",
    "            data = data.to(device)\n",
    "            recon_batch, mu, logvar = model(data)\n",
    "            test_loss += loss_function(recon_batch, data, mu, logvar).item()\n",
    "\n",
    "    test_loss /= len(test_loader.dataset)\n",
    "    print('====> Test set loss: {:.4f}'.format(test_loss))"
   ]
  },
  {
   "cell_type": "code",
   "execution_count": null,
   "metadata": {},
   "outputs": [],
   "source": [
    "from Models import VAE, convVAE\n",
    "\n",
    "model = VAE().to(device)\n",
    "optimizer = optim.Adam(model.parameters(), lr=1e-3)\n",
    "\n",
    "model_parameters = filter(lambda p: p.requires_grad, model.parameters())\n",
    "params = sum([np.prod(p.size()) for p in model_parameters])\n",
    "print(f\"trainable parameters: {params:,}\")\n",
    "\n",
    "for epoch in range(1, num_epochs + 1):\n",
    "    train(epoch, model, optimizer)\n",
    "    torch.save(model.state_dict(), \"weights/VAE.pth\")\n",
    "    test(epoch, model)\n",
    "    with torch.no_grad():\n",
    "        sample = torch.randn(64, 2).to(device) # 20 -> 2\n",
    "        sample = model.decode(sample).cpu()\n",
    "        save_image(sample.view(64, 1, 28, 28),\n",
    "                   'results/VAE/sample_' + str(epoch) + '.png')"
   ]
  },
  {
   "cell_type": "code",
   "execution_count": null,
   "metadata": {},
   "outputs": [],
   "source": [
    "z = 2\n",
    "model = convVAE(out_channels = 64, kernel_size = 4, hiddenDim=z).to(device)\n",
    "optimizer = optim.Adam(model.parameters(), lr=1e-3)\n",
    "\n",
    "model_parameters = filter(lambda p: p.requires_grad, model.parameters())\n",
    "params = sum([np.prod(p.size()) for p in model_parameters])\n",
    "print(f\"trainable parameters: {params:,}\")\n",
    "\n",
    "# Reconstruction + KL divergence losses summed over all elements and batch\n",
    "def loss_function(recon_x, x, mu, logvar):\n",
    "    BCE = F.binary_cross_entropy(recon_x, x, reduction='sum')\n",
    "    KLD = -0.5 * torch.sum(1 + logvar - mu.pow(2) - logvar.exp())\n",
    "    return BCE + KLD # -ELBO"
   ]
  },
  {
   "cell_type": "code",
   "execution_count": null,
   "metadata": {},
   "outputs": [],
   "source": [
    "for epoch in range(1, num_epochs + 1):\n",
    "    train(epoch, model, optimizer)\n",
    "    torch.save(model.state_dict(), \"weights/convVAE.pth\")\n",
    "    test(epoch, model)\n",
    "    with torch.no_grad():\n",
    "        sample = torch.randn(64, z).to(device)\n",
    "        sample = model.decode(sample).cpu()\n",
    "        save_image(sample.view(64, 1, 28, 28),\n",
    "                   'results/convVAE/sample_' + str(epoch) + '.png')"
   ]
  },
  {
   "cell_type": "markdown",
   "metadata": {},
   "source": [
    "# A2\n"
   ]
  },
  {
   "cell_type": "code",
   "execution_count": null,
   "metadata": {},
   "outputs": [],
   "source": [
    "from Models import denoisingDiffusion as Diffusion\n",
    "from Models import deNoise\n",
    "\n",
    "eps_model = deNoise()\n",
    "eps_model.to(device)\n",
    "diff = Diffusion(eps_model, device=device)\n",
    "optimizer = optim.Adam(eps_model.parameters(), lr=1e-3)\n",
    "eps_model.train() # so that everything has gradients and we can do backprop and so on...\n",
    "train_loss = 0\n",
    "for epoch in range(1, num_epochs):\n",
    "    for batch_idx, (data, _) in enumerate(train_loader):\n",
    "        data = data.to(device)\n",
    "        optimizer.zero_grad() # \"reset\" gradients to 0 for text iteration\n",
    "        \n",
    "        loss = diff.loss(data, None)\n",
    "        loss.backward() # calc gradients\n",
    "        train_loss += loss.item()\n",
    "        optimizer.step() # backpropagation\n",
    "\n",
    "    print('====> Epoch: {} Average loss: {:.4f}'.format(\n",
    "        epoch, train_loss / len(train_loader.dataset)))\n",
    "    if False:\n",
    "        with torch.no_grad():\n",
    "            sample = torch.randn(64, 2).to(device)\n",
    "            t = torch.arange(diff.T, 0, step=-1, device=device)\n",
    "            sample = diff.sample_p(sample, t)\n",
    "            save_image(sample.view(64, 1, 28, 28).cpu(),\n",
    "                        'results/diffusion/sample_' + str(epoch) + '.png')"
   ]
  },
  {
   "cell_type": "code",
   "execution_count": null,
   "metadata": {},
   "outputs": [],
   "source": [
    "with torch.no_grad():\n",
    "    samples = diff.sample_p_loop(data.shape)\n",
    "    save_image(sample.view(64, 1, 28, 28).cpu(),\n",
    "                'results/diffusion/sample_' + str(epoch) + '.png')"
   ]
  },
  {
   "cell_type": "markdown",
   "metadata": {},
   "source": [
    "PPCA"
   ]
  },
  {
   "cell_type": "code",
   "execution_count": null,
   "metadata": {},
   "outputs": [],
   "source": [
    "from PPCA import PPCA\n",
    "ppca = PPCA(train_loader.dataset, 5)\n",
    "samples = ppca.plot()\n"
   ]
  },
  {
   "cell_type": "code",
   "execution_count": null,
   "metadata": {},
   "outputs": [],
   "source": [
    "from Models import BayesianVAE\n",
    "\n",
    "prior = torch.distributions.Normal(torch.tensor([0]), torch.tensor([1]))\n",
    "model = BayesianVAE(prior)\n",
    "optimizer = optim.Adam(model.parameters(), lr=1e-3)\n",
    "\n",
    "model.train() # so that everything has gradients and we can do backprop and so on...\n",
    "train_loss = 0\n",
    "for batch_idx, (data, _) in enumerate(train_loader):\n",
    "    data = data.to(device)\n",
    "    optimizer.zero_grad() # \"reset\" gradients to 0 for text iteration\n",
    "    recon_batch, mu, logvar = model(data)\n",
    "    print(recon_batch)\n",
    "    loss = loss_function(recon_batch, data, mu, logvar)\n",
    "    loss.backward() # calc gradients\n",
    "    train_loss += loss.item()\n",
    "    optimizer.step() # backpropagation\n",
    "\n",
    "print('====> Epoch: {} Average loss: {:.4f}'.format(\n",
    "        epoch, train_loss / len(train_loader.dataset)))\n",
    "\n",
    "\n",
    "\n",
    "model.eval()\n",
    "test_loss = 0\n",
    "with torch.no_grad(): # no_grad turns of gradients...\n",
    "    for i, (data, _) in enumerate(test_loader):\n",
    "        data = data.to(device)\n",
    "        recon_batch, mu, logvar = model(data)\n",
    "        test_loss += model.KL_loss().item()\n",
    "\n",
    "test_loss /= len(test_loader.dataset)\n",
    "print('====> Test set loss: {:.4f}'.format(test_loss))"
   ]
  },
  {
   "cell_type": "markdown",
   "metadata": {},
   "source": [
    "Metrics"
   ]
  },
  {
   "cell_type": "code",
   "execution_count": null,
   "metadata": {},
   "outputs": [],
   "source": [
    "def save_imgs(model, num_imgs, z, location, weights = None, device='cpu'):\n",
    "    if weights is not None:\n",
    "        model.load_state_dict(torch.load(weights, map_location=torch.device(device)))\n",
    "    if not os.path.exists(location):\n",
    "        os.makedirs(location)\n",
    "    with torch.no_grad():\n",
    "        for i in range(num_imgs):\n",
    "            sample = torch.rand(1, 2)\n",
    "            sample = model.decode(sample).cpu().numpy()\n",
    "            np.save(location+f\"/sample_{i}\", sample.reshape((28,28)))\n",
    "\n",
    "def load_images(directory):\n",
    "    images = []\n",
    "    for filename in os.listdir(directory):\n",
    "        img = np.load(directory+\"/\"+filename)\n",
    "        images.append(torch.from_numpy(np.array(img)))\n",
    "    return torch.stack(images).unsqueeze(1)\n"
   ]
  },
  {
   "cell_type": "code",
   "execution_count": null,
   "metadata": {},
   "outputs": [],
   "source": [
    "def produce_samples(model, input, num_imgs, weights = None, device='cpu'):\n",
    "    samples = []\n",
    "    if weights is not None:\n",
    "        model.load_state_dict(torch.load(weights, map_location=torch.device(device)))\n",
    "    with torch.no_grad():\n",
    "        for i in range(num_imgs):\n",
    "            sample = model.decode(input).cpu()\n",
    "            samples.append(sample)\n",
    "    return torch.stack(samples).unsqueeze(1)"
   ]
  },
  {
   "cell_type": "code",
   "execution_count": null,
   "metadata": {},
   "outputs": [],
   "source": [
    "from torchmetrics import MultiScaleStructuralSimilarityIndexMeasure as MSSSIM\n",
    "from torchmetrics import PeakSignalNoiseRatio as PSNR\n",
    "from torchmetrics import ExplainedVariance, MeanAbsoluteError\n",
    "\n",
    "def test_suite(real, fake):\n",
    "    msi = MSSSIM(kernel_size=(3,3), betas=(0.0448, 0.03))\n",
    "    m = msi(fake, real).item()\n",
    "    psnr = PSNR()\n",
    "    p = psnr(fake, real).item()\n",
    "    explained_variance = ExplainedVariance() \n",
    "    c = explained_variance(fake, real).item()\n",
    "    mae = MeanAbsoluteError()\n",
    "    a = mae(fake, real).item()\n",
    "    return {\"MSSSIM\": m, \"PSNR\": p, \"ExpV\": c, \"MAE\": a}"
   ]
  },
  {
   "cell_type": "code",
   "execution_count": null,
   "metadata": {},
   "outputs": [],
   "source": [
    "import json\n",
    "new = False\n",
    "#Record results\n",
    "models = [(VAE(), \"weights/VAE.pth\"), (\n",
    "            convVAE(), \"weights/convVAE.pth\"), (\n",
    "            PPCA(train_loader.dataset, 5), None)]\n",
    "real = []\n",
    "for i,_ in test_loader: #Get the normalized images\n",
    "    real.append(i) \n",
    "num_imgs = len(real)\n",
    "real = torch.stack(real).squeeze(1)\n",
    "\n",
    "if new:\n",
    "    with open(\"results/scores.txt\", \"w\") as file:\n",
    "        file.write(\"Optimal scores:\\n\")\n",
    "        file.write(json.dumps(test_suite(real, real)))\n",
    "        file.write(\"\\n------------\\n\")\n",
    "\n",
    "for m,w in models:\n",
    "    fake = produce_samples(m, torch.rand(1,2), num_imgs=num_imgs, weights=w)\n",
    "    scores_dict = test_suite(real, fake)\n",
    "    with open(\"results/scores.txt\", \"a\") as file:\n",
    "        file.write(json.dumps(scores_dict + \"\\n\"))\n",
    "    "
   ]
  },
  {
   "cell_type": "code",
   "execution_count": null,
   "metadata": {},
   "outputs": [],
   "source": []
  }
 ],
 "metadata": {
  "kernelspec": {
   "display_name": "Python 3.10.8 ('pmlEnv')",
   "language": "python",
   "name": "python3"
  },
  "language_info": {
   "codemirror_mode": {
    "name": "ipython",
    "version": 3
   },
   "file_extension": ".py",
   "mimetype": "text/x-python",
   "name": "python",
   "nbconvert_exporter": "python",
   "pygments_lexer": "ipython3",
   "version": "3.10.8"
  },
  "orig_nbformat": 4,
  "vscode": {
   "interpreter": {
    "hash": "55285a41da61f3b5ce1faec5fd530327c13b78ca6def06f28f058b818cfcab31"
   }
  }
 },
 "nbformat": 4,
 "nbformat_minor": 2
}
