{
 "cells": [
  {
   "cell_type": "code",
   "execution_count": null,
   "metadata": {},
   "outputs": [],
   "source": [
    "from __future__ import print_function\n",
    "import argparse\n",
    "import torch\n",
    "import torch.utils.data\n",
    "from torch import nn, optim\n",
    "from torch.nn import functional as F\n",
    "from torchvision import datasets, transforms\n",
    "from torchvision.utils import save_image, make_grid\n",
    "import matplotlib.pyplot as plt\n",
    "import numpy as np\n",
    "import os\n",
    "import json\n",
    "from PMLutils import *\n",
    "torch.cuda.is_available()"
   ]
  },
  {
   "attachments": {},
   "cell_type": "markdown",
   "metadata": {},
   "source": [
    "# A1"
   ]
  },
  {
   "cell_type": "code",
   "execution_count": null,
   "metadata": {},
   "outputs": [],
   "source": [
    "cuda = torch.cuda.is_available()\n",
    "batch_size = 128\n",
    "num_epochs = 10\n",
    "\n",
    "torch.manual_seed(1) # args.seed\n",
    "\n",
    "device = torch.device(\"cuda\" if cuda else \"cpu\") # args.cuda\n",
    "kwargs = {'num_workers': 1, 'pin_memory': True} if cuda else {} # args.cuda\n",
    "\n",
    "# Get train and test data\n",
    "train_loader = torch.utils.data.DataLoader(\n",
    "    datasets.MNIST('../data', train=True, download=True,\n",
    "                   transform=transforms.ToTensor()),\n",
    "    batch_size=batch_size, shuffle=True, **kwargs)\n",
    "test_loader = torch.utils.data.DataLoader(\n",
    "    datasets.MNIST('../data', train=False, transform=transforms.ToTensor()),\n",
    "    batch_size=1, shuffle=True, **kwargs)\n",
    "\n"
   ]
  },
  {
   "cell_type": "code",
   "execution_count": null,
   "metadata": {},
   "outputs": [],
   "source": [
    "from models.vae import VAE\n",
    "from models.convVAE import ConvVAE\n",
    "z = 2\n",
    "model = VAE(z).to(device)\n",
    "optimizer = optim.Adam(model.parameters(), lr=1e-3)\n",
    "\n",
    "model_parameters = filter(lambda p: p.requires_grad, model.parameters())\n",
    "params = sum([np.prod(p.size()) for p in model_parameters])\n",
    "print(f\"trainable parameters: {params:,}\")\n",
    "prev_loss = 1e9\n",
    "for epoch in range(1, num_epochs + 1):\n",
    "    train_VAE(model, optimizer, train_loader, device)\n",
    "    loss = test_VAE(model, device, test_loader)\n",
    "    with torch.no_grad():\n",
    "        sample = torch.randn(64, z).to(device) # 20 -> 2\n",
    "        sample = model.decode(sample).cpu()\n",
    "        save_image(sample.view(64, 1, 28, 28),\n",
    "                   'results/VAE/sample_' + str(epoch) + '.png')\n",
    "    if loss < prev_loss:\n",
    "        torch.save(model.state_dict(), \"weights/VAE.pth\")\n",
    "        prev_loss = loss"
   ]
  },
  {
   "cell_type": "code",
   "execution_count": null,
   "metadata": {},
   "outputs": [],
   "source": [
    "z = 2\n",
    "model = ConvVAE(out_channels = 64, kernel_size = 4, hiddenDim=z).to(device)\n",
    "optimizer = optim.Adam(model.parameters(), lr=1e-3)\n",
    "\n",
    "model_parameters = filter(lambda p: p.requires_grad, model.parameters())\n",
    "params = sum([np.prod(p.size()) for p in model_parameters])\n",
    "print(f\"trainable parameters: {params:,}\")"
   ]
  },
  {
   "cell_type": "code",
   "execution_count": null,
   "metadata": {},
   "outputs": [],
   "source": [
    "prev_loss = 1e9\n",
    "for epoch in range(1, num_epochs + 1):\n",
    "    train_VAE(model, optimizer, train_loader, device)\n",
    "    loss = test_VAE(model, device, test_loader)\n",
    "    with torch.no_grad():\n",
    "        sample = torch.randn(64, z).to(device)\n",
    "        sample = model.decode(sample).cpu()\n",
    "        save_image(sample.view(64, 1, 28, 28),\n",
    "                   'results/convVAE/sample_' + str(epoch) + '.png')\n",
    "    if loss < prev_loss:\n",
    "        torch.save(model.state_dict(), \"weights/convVAE.pth\")\n",
    "        prev_loss = loss"
   ]
  },
  {
   "cell_type": "markdown",
   "metadata": {},
   "source": [
    "# A2\n"
   ]
  },
  {
   "cell_type": "markdown",
   "metadata": {},
   "source": [
    "Diffusion model"
   ]
  },
  {
   "cell_type": "markdown",
   "metadata": {},
   "source": [
    "perhaps need to renormalize images for it to work: transforms.Normalize((0.5,),(1.0))"
   ]
  },
  {
   "cell_type": "code",
   "execution_count": null,
   "metadata": {},
   "outputs": [],
   "source": [
    "from models.diffusion import DenoisingDiffusion, DeNoise, DeNoiseBIG\n",
    "\n",
    "tf = transforms.Compose([transforms.ToTensor(), transforms.Normalize((0.5,), (1.0))])\n",
    "\n",
    "train_loader = torch.utils.data.DataLoader(\n",
    "    datasets.MNIST('../data', train=True, download=True,\n",
    "                   transform=tf),\n",
    "    batch_size=batch_size, shuffle=True, **kwargs)\n",
    "\n",
    "mps = torch.backends.mps.is_available()\n",
    "\n",
    "torch.manual_seed(1) # args.seed\n",
    "if mps:\n",
    "    device = torch.device(\"mps\")\n",
    "else:\n",
    "    device = torch.device(\"cuda\" if cuda else \"cpu\") # args.cuda\n",
    "print(\"Using device \", device)\n",
    "\n",
    "eps_model = DeNoiseBIG()\n",
    "eps_model.to(device)\n",
    "diff = DenoisingDiffusion(eps_model, device=device) \n",
    "optimizer = torch.optim.Adam(eps_model.parameters(), lr=1e-3)\n",
    "prev_loss = 1e9\n",
    "for epoch in range(1, num_epochs):\n",
    "    tqdm_ = tqdm(train_loader)\n",
    "    for data, _ in tqdm_:\n",
    "        diff.train() # so that everything has gradients and we can do backprop and so on...\n",
    "        data = data.to(device)\n",
    "        optimizer.zero_grad() # \"reset\" gradients to 0 for text iteration\n",
    "        loss = diff(data)\n",
    "        loss.backward() # calc gradients\n",
    "        optimizer.step() # backpropagation\n",
    "        tqdm_.set_description(f\"loss: {loss:.4f}\")\n",
    "    \n",
    "    diff.eval()\n",
    "    with torch.no_grad():\n",
    "        sample = diff.sample_p(n=64)\n",
    "        save_image(sample.view(64, 1, 28, 28).cpu(),\n",
    "                    'results/diffusion/sample_' + str(epoch) + '.png')\n",
    "    if loss < prev_loss:\n",
    "        torch.save(diff.state_dict(), \"weights/diffusion.pth\")\n",
    "        prev_loss = loss"
   ]
  },
  {
   "cell_type": "markdown",
   "metadata": {},
   "source": [
    "PPCA"
   ]
  },
  {
   "cell_type": "code",
   "execution_count": null,
   "metadata": {},
   "outputs": [],
   "source": [
    "from models.ppca import PPCA\n",
    "\n",
    "ppca = PPCA(train_loader.dataset, 4)\n",
    "samples = ppca.sample()\n"
   ]
  },
  {
   "attachments": {},
   "cell_type": "markdown",
   "metadata": {},
   "source": [
    "Bayesian VAE (failed)"
   ]
  },
  {
   "cell_type": "code",
   "execution_count": null,
   "metadata": {},
   "outputs": [],
   "source": [
    "from models.bayesian import BayesianVAE\n",
    "\n",
    "\n",
    "prior = torch.distributions.Normal(torch.tensor([0]), torch.tensor([1]))\n",
    "model = BayesianVAE(prior)\n",
    "optimizer = optim.Adam(model.parameters(), lr=1e-3)\n",
    "reconstrction_loss = nn.CrossEntropyLoss()\n",
    "\n",
    "model.train() # so that everything has gradients and we can do backprop and so on...\n",
    "train_loss = 0\n",
    "for batch_idx, (data, _) in enumerate(train_loader):\n",
    "    data = data.to(device)\n",
    "    optimizer.zero_grad() # \"reset\" gradients to 0 for text iteration\n",
    "    recon_batch, mu, logvar = model(data)\n",
    "    \n",
    "    loss = model.loss() + reconstrction_loss(recon_batch, data)\n",
    "    loss.backward() # calc gradients\n",
    "    train_loss += loss.item()\n",
    "    optimizer.step() # backpropagation\n",
    "\n",
    "print('====> Epoch: {} Average loss: {:.4f}'.format(\n",
    "        epoch, train_loss / len(train_loader.dataset)))\n",
    "\n",
    "\n",
    "\n",
    "model.eval()\n",
    "test_loss = 0\n",
    "with torch.no_grad(): # no_grad turns of gradients...\n",
    "    for i, (data, _) in enumerate(test_loader):\n",
    "        data = data.to(device)\n",
    "        recon_batch, mu, logvar = model(data)\n",
    "        test_loss += model.KL_loss().item()\n",
    "\n",
    "test_loss /= len(test_loader.dataset)\n",
    "print('====> Test set loss: {:.4f}'.format(test_loss))"
   ]
  },
  {
   "cell_type": "markdown",
   "metadata": {},
   "source": [
    "Metrics"
   ]
  },
  {
   "cell_type": "code",
   "execution_count": null,
   "metadata": {},
   "outputs": [],
   "source": [
    "def produce_samples_vae(model, input, num_imgs, weights = None, device='cpu'):\n",
    "   \n",
    "    if weights is not None:\n",
    "        model.load_state_dict(torch.load(weights, map_location=torch.device(device)))\n",
    "    with torch.no_grad():\n",
    "        samples = model.decode(input).cpu()\n",
    "    return samples.unsqueeze(1)\n",
    "\n",
    "real = []\n",
    "for i,_ in test_loader: #Get the normalized images\n",
    "    real.append(i) \n",
    "num_imgs = len(real)\n",
    "real = torch.stack(real).squeeze(1)\n",
    "  "
   ]
  },
  {
   "cell_type": "code",
   "execution_count": null,
   "metadata": {},
   "outputs": [],
   "source": [
    "\n",
    "from models.convVAE import ConvVAE\n",
    "from models.vae import VAE\n",
    "from models.diffusion import DenoisingDiffusion, DeNoise\n",
    "from torchmetrics.image.inception import InceptionScore\n",
    "\n",
    "make_new = False\n",
    "#Record results\n",
    "models = [(\n",
    "            VAE(), \"weights/VAE.pth\", (1,2)), (\n",
    "            ConvVAE(out_channels = 64, kernel_size = 4, hiddenDim=2), \"weights/convVAE.pth\", (1,2)), (\n",
    "            DenoisingDiffusion(DeNoise()), \"weights/diffusion.pth\", (1, 1,28,28))\n",
    "            ]\n",
    "\n",
    "\n",
    "if make_new:\n",
    "    with open(\"results/scores.txt\", \"w\") as file:\n",
    "        file.write(\"Optimal scores:\\n\")\n",
    "        file.write(json.dumps(test_suite(real, real)))\n",
    "        file.write(\"\\n------------\\n\")\n",
    "\n",
    "for m,w in [(VAE(), \"weights/VAE.pth\"), (ConvVAE(out_channels = 64, kernel_size = 4, hiddenDim=2), \"weights/convVAE.pth\")]:\n",
    "    fake = produce_samples_vae(m, torch.randn(10_000,2), num_imgs=num_imgs, weights=w)\n",
    "    scores_dict = test_suite(real, fake)\n",
    "    with open(\"results/scores.txt\", \"a\") as file:\n",
    "        file.write(w.split(\"/\")[-1][:-4] + \" = \")\n",
    "        file.write(json.dumps(scores_dict))\n",
    "        file.write(\"\\n\")\n",
    "\n",
    "\n",
    "\n",
    "\n",
    "\n",
    "\n",
    "\n",
    "    "
   ]
  },
  {
   "cell_type": "code",
   "execution_count": null,
   "metadata": {},
   "outputs": [],
   "source": [
    "ks=[]; vs=[]\n",
    "samples = [s/torch.max(s) for i,s in ppca.compute_pca_loop()]*1000\n",
    "fake = torch.stack(samples).type(torch.float32)\n",
    "print(fake.shape)\n",
    "scores_dict = test_suite(real.cpu(), fake.cpu())\n",
    "   \n",
    "#scores_dict = {k:np.average(v) for k,v in zip(ks, vs)}\n",
    "with open(\"results/scores.txt\", \"a\") as file:\n",
    "    file.write(\"\\nPPCA = \")\n",
    "    file.write(json.dumps(scores_dict))\n",
    "    file.write(\"\\n\")"
   ]
  },
  {
   "cell_type": "code",
   "execution_count": null,
   "metadata": {},
   "outputs": [],
   "source": [
    "eps_model = DeNoiseBIG()\n",
    "eps_model.to(device)\n",
    "model = DenoisingDiffusion(eps_model, device=device)\n",
    "model.load_state_dict(torch.load(\"weights/diffusion.pth\", map_location=torch.device(device)))\n",
    "with torch.no_grad():\n",
    "    samples = []\n",
    "    for i in range(1,101):\n",
    "        sample = model.sample_p(100)\n",
    "        print(f\"{i}/{100}\")\n",
    "        m = torch.max(sample)\n",
    "        samples.append(sample/m)\n",
    "        \n",
    "    fake = torch.stack(samples, dim=0).squeeze(1)\n",
    "    \n",
    "    scores_dict = test_suite(real.cpu(), fake.cpu())\n",
    "    with open(\"results/scores.txt\", \"a\") as file:\n",
    "        file.write(\"\\nDiffusion = \")\n",
    "        file.write(json.dumps(scores_dict))\n",
    "        file.write(\"\\n\")"
   ]
  },
  {
   "cell_type": "code",
   "execution_count": null,
   "metadata": {},
   "outputs": [],
   "source": [
    "js = []\n",
    "from PIL import Image\n",
    "path = \"results/PPCA/\"\n",
    "for img in os.listdir(path):\n",
    "\n",
    "    j = Image.open(path+img)\n",
    "    conv = transforms.ToTensor()\n",
    "    j = conv(j)\n",
    "   \n",
    "    js.append(j)\n",
    "    print(j.shape)\n",
    "\n",
    "js = torch.stack(js)\n",
    "js = torch.roll(js, 1)\n",
    "print(js.shape)\n",
    "\n",
    "img = make_grid(js, nrow=4)\n",
    "\n",
    "print(img.shape)\n",
    "save_image(img, \"results/PPCA/ppca.png\")"
   ]
  },
  {
   "cell_type": "code",
   "execution_count": null,
   "metadata": {},
   "outputs": [],
   "source": []
  }
 ],
 "metadata": {
  "kernelspec": {
   "display_name": "base",
   "language": "python",
   "name": "python3"
  },
  "language_info": {
   "codemirror_mode": {
    "name": "ipython",
    "version": 3
   },
   "file_extension": ".py",
   "mimetype": "text/x-python",
   "name": "python",
   "nbconvert_exporter": "python",
   "pygments_lexer": "ipython3",
   "version": "3.9.13 (main, Aug 25 2022, 23:51:50) [MSC v.1916 64 bit (AMD64)]"
  },
  "orig_nbformat": 4,
  "vscode": {
   "interpreter": {
    "hash": "2f982708efa9215d9bd9432f8477a0f8145a74f63a7263f3d9ad45daff0b6424"
   }
  }
 },
 "nbformat": 4,
 "nbformat_minor": 2
}
