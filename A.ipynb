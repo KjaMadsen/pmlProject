{
 "cells": [
  {
   "cell_type": "code",
   "execution_count": null,
   "metadata": {},
   "outputs": [],
   "source": [
    "from __future__ import print_function\n",
    "import argparse\n",
    "import torch\n",
    "import torch.utils.data\n",
    "from torch import nn, optim\n",
    "from torch.nn import functional as F\n",
    "from torchvision import datasets, transforms\n",
    "from torchvision.utils import save_image\n",
    "\n",
    "import matplotlib.pyplot as plt\n",
    "import numpy as np\n",
    "import os"
   ]
  },
  {
   "cell_type": "code",
   "execution_count": null,
   "metadata": {},
   "outputs": [],
   "source": [
    "from PMLutils import *"
   ]
  },
  {
   "attachments": {},
   "cell_type": "markdown",
   "metadata": {},
   "source": [
    "# A1"
   ]
  },
  {
   "cell_type": "code",
   "execution_count": null,
   "metadata": {},
   "outputs": [],
   "source": [
    "cuda = torch.cuda.is_available()\n",
    "batch_size = 64\n",
    "num_epochs = 10\n",
    "\n",
    "torch.manual_seed(1) # args.seed\n",
    "\n",
    "device = torch.device(\"cuda\" if cuda else \"cpu\") # args.cuda\n",
    "kwargs = {'num_workers': 1, 'pin_memory': True} if cuda else {} # args.cuda\n",
    "\n",
    "# Get train and test data\n",
    "train_loader = torch.utils.data.DataLoader(\n",
    "    datasets.MNIST('../data', train=True, download=True,\n",
    "                   transform=transforms.ToTensor()),\n",
    "    batch_size=batch_size, shuffle=True, **kwargs)\n",
    "test_loader = torch.utils.data.DataLoader(\n",
    "    datasets.MNIST('../data', train=False, transform=transforms.ToTensor()),\n",
    "    batch_size=1, shuffle=True, **kwargs)\n",
    "\n"
   ]
  },
  {
   "cell_type": "code",
   "execution_count": null,
   "metadata": {},
   "outputs": [],
   "source": [
    "from models.vae import VAE\n",
    "from models.convVAE import ConvVAE\n",
    "z = 2\n",
    "model = VAE(z).to(device)\n",
    "optimizer = optim.Adam(model.parameters(), lr=1e-3)\n",
    "\n",
    "model_parameters = filter(lambda p: p.requires_grad, model.parameters())\n",
    "params = sum([np.prod(p.size()) for p in model_parameters])\n",
    "print(f\"trainable parameters: {params:,}\")\n",
    "prev_loss = 1e9\n",
    "for epoch in range(1, num_epochs + 1):\n",
    "    train_VAE(model, optimizer, train_loader, device)\n",
    "    loss = test_VAE(model, device, test_loader)\n",
    "    with torch.no_grad():\n",
    "        sample = torch.randn(64, z).to(device) # 20 -> 2\n",
    "        sample = model.decode(sample).cpu()\n",
    "        save_image(sample.view(64, 1, 28, 28),\n",
    "                   'results/VAE/sample_' + str(epoch) + '.png')\n",
    "    if loss < prev_loss:\n",
    "        torch.save(model.state_dict(), \"weights/VAE.pth\")"
   ]
  },
  {
   "cell_type": "code",
   "execution_count": null,
   "metadata": {},
   "outputs": [],
   "source": [
    "z = 2\n",
    "model = ConvVAE(out_channels = 64, kernel_size = 4, hiddenDim=z).to(device)\n",
    "optimizer = optim.Adam(model.parameters(), lr=1e-3)\n",
    "\n",
    "model_parameters = filter(lambda p: p.requires_grad, model.parameters())\n",
    "params = sum([np.prod(p.size()) for p in model_parameters])\n",
    "print(f\"trainable parameters: {params:,}\")"
   ]
  },
  {
   "cell_type": "code",
   "execution_count": null,
   "metadata": {},
   "outputs": [],
   "source": [
    "prev_loss = 1e9\n",
    "for epoch in range(1, num_epochs + 1):\n",
    "    train_VAE(model, optimizer, test_loader, device)\n",
    "    loss = test_VAE(model, device, test_loader)\n",
    "    with torch.no_grad():\n",
    "        sample = torch.randn(64, z).to(device)\n",
    "        sample = model.decode(sample).cpu()\n",
    "        save_image(sample.view(64, 1, 28, 28),\n",
    "                   'results/convVAE/sample_' + str(epoch) + '.png')\n",
    "    if loss < prev_loss:\n",
    "        torch.save(model.state_dict(), \"weights/convVAE.pth\")"
   ]
  },
  {
   "cell_type": "markdown",
   "metadata": {},
   "source": [
    "# A2\n"
   ]
  },
  {
   "cell_type": "markdown",
   "metadata": {},
   "source": [
    "Diffusion model"
   ]
  },
  {
   "cell_type": "markdown",
   "metadata": {},
   "source": [
    "perhaps need to renormalize images for it to work: transforms.Normalize((0.5,),(1.0))"
   ]
  },
  {
   "cell_type": "code",
   "execution_count": null,
   "metadata": {},
   "outputs": [],
   "source": [
    "from models.diffusion import DenoisingDiffusion, DeNoise\n",
    "\n",
    "mps = torch.backends.mps.is_available()\n",
    "batch_size = 128\n",
    "num_epochs = 10\n",
    "\n",
    "torch.manual_seed(1) # args.seed\n",
    "if mps:\n",
    "    device = torch.device(\"mps\")\n",
    "else:\n",
    "    device = torch.device(\"cuda\" if cuda else \"cpu\") # args.cuda\n",
    "print(\"Using device \", device)\n",
    "\n",
    "eps_model = DeNoise()\n",
    "eps_model.to(device)\n",
    "diff = DenoisingDiffusion(eps_model, device=device) \n",
    "optimizer = torch.optim.Adam(eps_model.parameters(), lr=1e-3)\n",
    "\n",
    "for epoch in range(1, num_epochs):\n",
    "    tqdm_ = tqdm(train_loader)\n",
    "    for data, _ in tqdm_:\n",
    "        diff.train() # so that everything has gradients and we can do backprop and so on...\n",
    "        data = data.to(device)\n",
    "        optimizer.zero_grad() # \"reset\" gradients to 0 for text iteration\n",
    "        loss = diff(data)\n",
    "        loss.backward() # calc gradients\n",
    "        optimizer.step() # backpropagation\n",
    "        tqdm_.set_description(f\"loss: {loss:.4f}\")\n",
    "    \n",
    "    diff.eval()\n",
    "    with torch.no_grad():\n",
    "        sample = diff.sample_p(n=64)\n",
    "        save_image(sample.view(64, 1, 28, 28).cpu(),\n",
    "                    'results/diffusion/sample_' + str(epoch) + '.png')\n",
    "    torch.save(diff.state_dict(), \"weights/diffusion.pth\")"
   ]
  },
  {
   "cell_type": "markdown",
   "metadata": {},
   "source": [
    "PPCA"
   ]
  },
  {
   "cell_type": "code",
   "execution_count": null,
   "metadata": {},
   "outputs": [],
   "source": [
    "from models.ppca import PPCA\n",
    "\n",
    "ppca = PPCA(train_loader.dataset, 20)\n",
    "samples = ppca.sample()\n"
   ]
  },
  {
   "attachments": {},
   "cell_type": "markdown",
   "metadata": {},
   "source": [
    "Bayesian VAE (failed)"
   ]
  },
  {
   "cell_type": "code",
   "execution_count": null,
   "metadata": {},
   "outputs": [],
   "source": [
    "from models.bayesian import BayesianVAE\n",
    "\n",
    "\n",
    "prior = torch.distributions.Normal(torch.tensor([0]), torch.tensor([1]))\n",
    "model = BayesianVAE(prior)\n",
    "optimizer = optim.Adam(model.parameters(), lr=1e-3)\n",
    "reconstrction_loss = nn.CrossEntropyLoss()\n",
    "\n",
    "model.train() # so that everything has gradients and we can do backprop and so on...\n",
    "train_loss = 0\n",
    "for batch_idx, (data, _) in enumerate(train_loader):\n",
    "    data = data.to(device)\n",
    "    optimizer.zero_grad() # \"reset\" gradients to 0 for text iteration\n",
    "    recon_batch, mu, logvar = model(data)\n",
    "    \n",
    "    loss = model.loss() + reconstrction_loss(recon_batch, data)\n",
    "    loss.backward() # calc gradients\n",
    "    train_loss += loss.item()\n",
    "    optimizer.step() # backpropagation\n",
    "\n",
    "print('====> Epoch: {} Average loss: {:.4f}'.format(\n",
    "        epoch, train_loss / len(train_loader.dataset)))\n",
    "\n",
    "\n",
    "\n",
    "model.eval()\n",
    "test_loss = 0\n",
    "with torch.no_grad(): # no_grad turns of gradients...\n",
    "    for i, (data, _) in enumerate(test_loader):\n",
    "        data = data.to(device)\n",
    "        recon_batch, mu, logvar = model(data)\n",
    "        test_loss += model.KL_loss().item()\n",
    "\n",
    "test_loss /= len(test_loader.dataset)\n",
    "print('====> Test set loss: {:.4f}'.format(test_loss))"
   ]
  },
  {
   "cell_type": "markdown",
   "metadata": {},
   "source": [
    "Metrics"
   ]
  },
  {
   "cell_type": "code",
   "execution_count": 14,
   "metadata": {},
   "outputs": [],
   "source": [
    "def produce_samples_vae(model, input, num_imgs, weights = None, device='cpu'):\n",
    "   \n",
    "    if weights is not None:\n",
    "        model.load_state_dict(torch.load(weights, map_location=torch.device(device)))\n",
    "    with torch.no_grad():\n",
    "        samples = model.decode(input).cpu()\n",
    "    return samples.unsqueeze(1)\n",
    "  "
   ]
  },
  {
   "cell_type": "code",
   "execution_count": 15,
   "metadata": {},
   "outputs": [
    {
     "ename": "RuntimeError",
     "evalue": "Expected all tensors to be on the same device, but found at least two devices, cuda:0 and cpu!",
     "output_type": "error",
     "traceback": [
      "\u001b[1;31m---------------------------------------------------------------------------\u001b[0m",
      "\u001b[1;31mRuntimeError\u001b[0m                              Traceback (most recent call last)",
      "Cell \u001b[1;32mIn[15], line 36\u001b[0m\n\u001b[0;32m     34\u001b[0m model\u001b[39m.\u001b[39mload_state_dict(torch\u001b[39m.\u001b[39mload(\u001b[39m\"\u001b[39m\u001b[39mweights/diffusion.pth\u001b[39m\u001b[39m\"\u001b[39m, map_location\u001b[39m=\u001b[39mtorch\u001b[39m.\u001b[39mdevice(device)))\n\u001b[0;32m     35\u001b[0m \u001b[39mwith\u001b[39;00m torch\u001b[39m.\u001b[39mno_grad():\n\u001b[1;32m---> 36\u001b[0m     fake \u001b[39m=\u001b[39m model(torch\u001b[39m.\u001b[39;49mrandn(\u001b[39m10_000\u001b[39;49m, \u001b[39m1\u001b[39;49m, \u001b[39m28\u001b[39;49m, \u001b[39m28\u001b[39;49m))\n\u001b[0;32m     37\u001b[0m     scores_dict \u001b[39m=\u001b[39m test_suite(real, fake)\n\u001b[0;32m     38\u001b[0m     \u001b[39mwith\u001b[39;00m \u001b[39mopen\u001b[39m(\u001b[39m\"\u001b[39m\u001b[39mresults/scores.txt\u001b[39m\u001b[39m\"\u001b[39m, \u001b[39m\"\u001b[39m\u001b[39ma\u001b[39m\u001b[39m\"\u001b[39m) \u001b[39mas\u001b[39;00m file:\n",
      "File \u001b[1;32mc:\\Users\\else\\AppData\\Local\\Programs\\Python\\Python39\\lib\\site-packages\\torch\\nn\\modules\\module.py:1194\u001b[0m, in \u001b[0;36mModule._call_impl\u001b[1;34m(self, *input, **kwargs)\u001b[0m\n\u001b[0;32m   1190\u001b[0m \u001b[39m# If we don't have any hooks, we want to skip the rest of the logic in\u001b[39;00m\n\u001b[0;32m   1191\u001b[0m \u001b[39m# this function, and just call forward.\u001b[39;00m\n\u001b[0;32m   1192\u001b[0m \u001b[39mif\u001b[39;00m \u001b[39mnot\u001b[39;00m (\u001b[39mself\u001b[39m\u001b[39m.\u001b[39m_backward_hooks \u001b[39mor\u001b[39;00m \u001b[39mself\u001b[39m\u001b[39m.\u001b[39m_forward_hooks \u001b[39mor\u001b[39;00m \u001b[39mself\u001b[39m\u001b[39m.\u001b[39m_forward_pre_hooks \u001b[39mor\u001b[39;00m _global_backward_hooks\n\u001b[0;32m   1193\u001b[0m         \u001b[39mor\u001b[39;00m _global_forward_hooks \u001b[39mor\u001b[39;00m _global_forward_pre_hooks):\n\u001b[1;32m-> 1194\u001b[0m     \u001b[39mreturn\u001b[39;00m forward_call(\u001b[39m*\u001b[39m\u001b[39minput\u001b[39m, \u001b[39m*\u001b[39m\u001b[39m*\u001b[39mkwargs)\n\u001b[0;32m   1195\u001b[0m \u001b[39m# Do not call functions when jit is used\u001b[39;00m\n\u001b[0;32m   1196\u001b[0m full_backward_hooks, non_full_backward_hooks \u001b[39m=\u001b[39m [], []\n",
      "File \u001b[1;32mc:\\Users\\else\\OneDrive\\Dokumenter\\Kjartan\\pmlProject\\models\\diffusion.py:37\u001b[0m, in \u001b[0;36mDenoisingDiffusion.forward\u001b[1;34m(self, x0)\u001b[0m\n\u001b[0;32m     34\u001b[0m t \u001b[39m=\u001b[39m torch\u001b[39m.\u001b[39mrandint(\u001b[39m1\u001b[39m, \u001b[39mself\u001b[39m\u001b[39m.\u001b[39mT, (batch_size,), device\u001b[39m=\u001b[39mx0\u001b[39m.\u001b[39mdevice, dtype\u001b[39m=\u001b[39mtorch\u001b[39m.\u001b[39mlong)\n\u001b[0;32m     36\u001b[0m noise\u001b[39m=\u001b[39mtorch\u001b[39m.\u001b[39mrandn_like(x0)\n\u001b[1;32m---> 37\u001b[0m x_t \u001b[39m=\u001b[39m \u001b[39mself\u001b[39;49m\u001b[39m.\u001b[39;49msample_q(x0, t, noise)\n\u001b[0;32m     38\u001b[0m eps_theta \u001b[39m=\u001b[39m \u001b[39mself\u001b[39m\u001b[39m.\u001b[39mmodel(x_t, t)\n\u001b[0;32m     40\u001b[0m \u001b[39mreturn\u001b[39;00m F\u001b[39m.\u001b[39mmse_loss(noise, eps_theta)\n",
      "File \u001b[1;32mc:\\Users\\else\\OneDrive\\Dokumenter\\Kjartan\\pmlProject\\models\\diffusion.py:30\u001b[0m, in \u001b[0;36mDenoisingDiffusion.sample_q\u001b[1;34m(self, x0, t, noise)\u001b[0m\n\u001b[0;32m     28\u001b[0m a_t \u001b[39m=\u001b[39m \u001b[39mself\u001b[39m\u001b[39m.\u001b[39mextract(torch\u001b[39m.\u001b[39msqrt(\u001b[39mself\u001b[39m\u001b[39m.\u001b[39malphas_bar), t, x0)\n\u001b[0;32m     29\u001b[0m one_minus_a_t \u001b[39m=\u001b[39m \u001b[39mself\u001b[39m\u001b[39m.\u001b[39mextract(torch\u001b[39m.\u001b[39msqrt(\u001b[39m1\u001b[39m\u001b[39m-\u001b[39m\u001b[39mself\u001b[39m\u001b[39m.\u001b[39malphas_bar), t, x0)\n\u001b[1;32m---> 30\u001b[0m \u001b[39mreturn\u001b[39;00m (a_t \u001b[39m*\u001b[39;49m x0  \u001b[39m+\u001b[39m one_minus_a_t \u001b[39m*\u001b[39m noise)\n",
      "\u001b[1;31mRuntimeError\u001b[0m: Expected all tensors to be on the same device, but found at least two devices, cuda:0 and cpu!"
     ]
    }
   ],
   "source": [
    "import json\n",
    "from models.convVAE import ConvVAE\n",
    "from models.vae import VAE\n",
    "from models.diffusion import DenoisingDiffusion, DeNoise\n",
    "\n",
    "make_new = True\n",
    "#Record results\n",
    "models = [(\n",
    "            VAE(), \"weights/VAE.pth\", (1,2)), (\n",
    "            ConvVAE(out_channels = 64, kernel_size = 4, hiddenDim=2), \"weights/convVAE.pth\", (1,2)), (\n",
    "            DenoisingDiffusion(DeNoise()), \"weights/diffusion.pth\", (1, 1,28,28))\n",
    "            ]\n",
    "real = []\n",
    "for i,_ in test_loader: #Get the normalized images\n",
    "    real.append(i) \n",
    "num_imgs = len(real)\n",
    "real = torch.stack(real).squeeze(1)\n",
    "\n",
    "if make_new:\n",
    "    with open(\"results/scores.txt\", \"w\") as file:\n",
    "        file.write(\"Optimal scores:\\n\")\n",
    "        file.write(json.dumps(test_suite(real, real)))\n",
    "        file.write(\"\\n------------\\n\")\n",
    "\n",
    "for m,w in [(VAE(), \"weights/VAE.pth\"), (ConvVAE(out_channels = 64, kernel_size = 4, hiddenDim=2), \"weights/convVAE.pth\")]:\n",
    "    fake = produce_samples_vae(m, torch.randn(10_000,2), num_imgs=num_imgs, weights=w)\n",
    "    scores_dict = test_suite(real, fake)\n",
    "    with open(\"results/scores.txt\", \"a\") as file:\n",
    "        file.write(w.split(\"/\")[-1][:-4] + \" = \")\n",
    "        file.write(json.dumps(scores_dict))\n",
    "        file.write(\"\\n\")\n",
    "\n",
    "model = DenoisingDiffusion(DeNoise(), device=device)\n",
    "model.load_state_dict(torch.load(\"weights/diffusion.pth\", map_location=torch.device(device)))\n",
    "with torch.no_grad():\n",
    "    fake = model.sample_p(10_000)\n",
    "    scores_dict = test_suite(real, fake)\n",
    "    with open(\"results/scores.txt\", \"a\") as file:\n",
    "        file.write(w.split(\"/\")[-1][:-4] + \" = \")\n",
    "        file.write(json.dumps(scores_dict))\n",
    "        file.write(\"\\n\")\n",
    "\n",
    "model = PPCA(train_loader.dataset, L=20)\n",
    "fake = model.sample(save=False)\n",
    "#how to compare?\n",
    "\n",
    "\n",
    "\n",
    "    "
   ]
  },
  {
   "cell_type": "code",
   "execution_count": 30,
   "metadata": {},
   "outputs": [],
   "source": [
    "device = 'cuda:0'\n",
    "eps_model = DeNoise()\n",
    "eps_model.to(device)\n",
    "model = DenoisingDiffusion(eps_model, device=device)\n",
    "model.load_state_dict(torch.load(\"weights/diffusion.pth\", map_location=torch.device(device)))\n",
    "with torch.no_grad():\n",
    "    samples = []\n",
    "    for _ in range(100):\n",
    "        sample = model.sample_p(100)\n",
    "        print(sample.shape)\n",
    "        samples.append(sample)\n",
    "    fake = torch.stack(samples, dim=0)\n",
    "    scores_dict = test_suite(real, fake)\n",
    "    with open(\"results/scores.txt\", \"a\") as file:\n",
    "        file.write(w.split(\"/\")[-1][:-4] + \" = \")\n",
    "        file.write(json.dumps(scores_dict))\n",
    "        file.write(\"\\n\")"
   ]
  },
  {
   "cell_type": "code",
   "execution_count": 27,
   "metadata": {},
   "outputs": [
    {
     "data": {
      "text/plain": [
       "torch.Size([1000])"
      ]
     },
     "execution_count": 27,
     "metadata": {},
     "output_type": "execute_result"
    }
   ],
   "source": [
    "fake.shape"
   ]
  },
  {
   "cell_type": "code",
   "execution_count": null,
   "metadata": {},
   "outputs": [],
   "source": []
  }
 ],
 "metadata": {
  "kernelspec": {
   "display_name": "Python 3",
   "language": "python",
   "name": "python3"
  },
  "language_info": {
   "codemirror_mode": {
    "name": "ipython",
    "version": 3
   },
   "file_extension": ".py",
   "mimetype": "text/x-python",
   "name": "python",
   "nbconvert_exporter": "python",
   "pygments_lexer": "ipython3",
   "version": "3.9.13"
  },
  "orig_nbformat": 4,
  "vscode": {
   "interpreter": {
    "hash": "c44e8b29ceed1bbfe54cb0e4ea90c7b31ceefa48ebfddc254fa6186b1d915c81"
   }
  }
 },
 "nbformat": 4,
 "nbformat_minor": 2
}
