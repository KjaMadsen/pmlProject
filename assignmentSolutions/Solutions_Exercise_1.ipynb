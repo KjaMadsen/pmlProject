{
 "cells": [
  {
   "cell_type": "markdown",
   "id": "6be70f74",
   "metadata": {},
   "source": [
    "# 8.3"
   ]
  },
  {
   "cell_type": "code",
   "execution_count": 1,
   "id": "74bf68ef",
   "metadata": {},
   "outputs": [],
   "source": [
    "import pandas as pd\n",
    "import numpy as np\n",
    "import matplotlib.pyplot as plt"
   ]
  },
  {
   "cell_type": "code",
   "execution_count": 2,
   "id": "e058b269",
   "metadata": {
    "scrolled": false
   },
   "outputs": [
    {
     "name": "stdout",
     "output_type": "stream",
     "text": [
      "   a  b  c      p\n",
      "0  0  0  0  0.192\n",
      "1  0  0  1  0.144\n",
      "2  0  1  0  0.048\n",
      "3  0  1  1  0.216\n",
      "4  1  0  0  0.192\n",
      "5  1  0  1  0.064\n",
      "6  1  1  0  0.048\n",
      "7  1  1  1  0.096\n"
     ]
    }
   ],
   "source": [
    "df = pd.DataFrame({'a' : [0, 0, 0, 0, 1, 1, 1, 1],\n",
    "                   'b' : [0, 0, 1, 1, 0, 0, 1, 1],\n",
    "                   'c' : [0, 1, 0, 1, 0, 1, 0, 1],\n",
    "                   'p' : [0.192, 0.144, 0.048, 0.216, \n",
    "                          0.192, 0.064, 0.048, 0.096]})\n",
    "print(df)"
   ]
  },
  {
   "cell_type": "markdown",
   "id": "d2289ee0",
   "metadata": {},
   "source": [
    "## Part 1: Show $p(a)p(b) \\neq p(a,b)$"
   ]
  },
  {
   "cell_type": "markdown",
   "id": "660e82f6",
   "metadata": {},
   "source": [
    "Compute margial probabilities"
   ]
  },
  {
   "cell_type": "code",
   "execution_count": 3,
   "id": "4748dd62",
   "metadata": {},
   "outputs": [],
   "source": [
    "p_a1 = sum(df[df.a==1].p) # P(a=1)\n",
    "p_b1 = sum(df[df.b==1].p) # P(b=1)\n",
    "p_a0 = sum(df[df.a==0].p) # P(a=0)\n",
    "p_b0 = sum(df[df.b==0].p) # P(b=0)"
   ]
  },
  {
   "cell_type": "markdown",
   "id": "a65ca6fe",
   "metadata": {},
   "source": [
    "Compute product of marginal probabilities $P(a=1)*P(b=1)$"
   ]
  },
  {
   "cell_type": "code",
   "execution_count": 4,
   "id": "ff90fb79",
   "metadata": {},
   "outputs": [
    {
     "name": "stdout",
     "output_type": "stream",
     "text": [
      "0.163\n"
     ]
    }
   ],
   "source": [
    "print(round(p_a1*p_b1, 3))"
   ]
  },
  {
   "cell_type": "markdown",
   "id": "d618a83e",
   "metadata": {},
   "source": [
    "Compute joint probability $P(a=1, b=1)$"
   ]
  },
  {
   "cell_type": "code",
   "execution_count": 5,
   "id": "2f3dc89a",
   "metadata": {},
   "outputs": [
    {
     "name": "stdout",
     "output_type": "stream",
     "text": [
      "0.144\n"
     ]
    }
   ],
   "source": [
    "print(round(sum(df[(df.a==1) & (df.b==1)].p), 3))"
   ]
  },
  {
   "cell_type": "markdown",
   "id": "8b6ba668",
   "metadata": {},
   "source": [
    "Note that these are different, hence $p(a)p(b) \\neq p(a,b)$"
   ]
  },
  {
   "cell_type": "markdown",
   "id": "e7bc1af2",
   "metadata": {},
   "source": [
    "## Part 2: Show $p(a|c)p(b|c) = p(a,b|c)$"
   ]
  },
  {
   "cell_type": "markdown",
   "id": "8ea24e8d",
   "metadata": {},
   "source": [
    "Note that $p(a|c) = p(a,c)/p(c)$  \n",
    "and $p(a,b|c) = p(a,b,c)/p(c)$  "
   ]
  },
  {
   "cell_type": "code",
   "execution_count": 6,
   "id": "0bc152c9",
   "metadata": {},
   "outputs": [],
   "source": [
    "p_a1_c1 = sum(df[(df.a==1) & (df.c==1)].p) # P(a=1, c=1)\n",
    "p_a0_c1 = sum(df[(df.a==0) & (df.c==1)].p) # P(a=0, c=1)\n",
    "p_a1_c0 = sum(df[(df.a==1) & (df.c==0)].p) # P(a=1, c=0)\n",
    "p_a0_c0 = sum(df[(df.a==0) & (df.c==0)].p) # P(a=0, c=0)\n",
    "\n",
    "p_b1_c1 = sum(df[(df.b==1) & (df.c==1)].p) # P(b=1, c=1)\n",
    "p_b0_c1 = sum(df[(df.b==0) & (df.c==1)].p) # P(b=0, c=1)\n",
    "p_b1_c0 = sum(df[(df.b==1) & (df.c==0)].p) # P(b=1, c=0)\n",
    "p_b0_c0 = sum(df[(df.b==0) & (df.c==0)].p) # P(b=0, c=0)\n",
    "\n",
    "p_c1 = sum(df[df.c==1].p) # P(c=1)\n",
    "p_c0 = sum(df[df.c==0].p) # P(c=0)\n",
    "\n",
    "p_a1_b1_c1 = sum(df[(df.a==1) & (df.b==1) & (df.c==1)].p) # P(a=1, b=1, c=1)\n",
    "p_a0_b1_c1 = sum(df[(df.a==0) & (df.b==1) & (df.c==1)].p) # P(a=0, b=1, c=1)\n",
    "p_a0_b0_c1 = sum(df[(df.a==0) & (df.b==0) & (df.c==1)].p) # P(a=0, b=0, c=1)\n",
    "p_a1_b0_c1 = sum(df[(df.a==1) & (df.b==0) & (df.c==1)].p) # P(a=1, b=0, c=1)\n",
    "p_a1_b1_c0 = sum(df[(df.a==1) & (df.b==1) & (df.c==0)].p) # P(a=1, b=1, c=0)\n",
    "p_a0_b1_c0 = sum(df[(df.a==0) & (df.b==1) & (df.c==0)].p) # P(a=0, b=1, c=0)\n",
    "p_a0_b0_c0 = sum(df[(df.a==0) & (df.b==0) & (df.c==0)].p) # P(a=0, b=0, c=0)\n",
    "p_a1_b0_c0 = sum(df[(df.a==1) & (df.b==0) & (df.c==0)].p) # P(a=1, b=0, c=0)"
   ]
  },
  {
   "cell_type": "markdown",
   "id": "428dec7a",
   "metadata": {},
   "source": [
    "Check if $p(a|c)p(b|c) = p(a,b|c)$ for all combinations of a, b, c in \\{0, 1\\}"
   ]
  },
  {
   "cell_type": "code",
   "execution_count": 7,
   "id": "1cf0b33e",
   "metadata": {},
   "outputs": [
    {
     "name": "stdout",
     "output_type": "stream",
     "text": [
      "True\n",
      "True\n",
      "True\n",
      "True\n",
      "True\n",
      "True\n",
      "True\n",
      "True\n"
     ]
    }
   ],
   "source": [
    "print(p_a1_c1/p_c1 * p_b1_c1/p_c1 == p_a1_b1_c1/p_c1)\n",
    "print(p_a0_c1/p_c1 * p_b1_c1/p_c1 == p_a0_b1_c1/p_c1)\n",
    "print(p_a0_c1/p_c1 * p_b0_c1/p_c1 == p_a0_b0_c1/p_c1)\n",
    "print(p_a1_c1/p_c1 * p_b0_c1/p_c1 == p_a1_b0_c1/p_c1)\n",
    "print(p_a1_c0/p_c0 * p_b1_c0/p_c0 == p_a1_b1_c0/p_c0)\n",
    "print(p_a0_c0/p_c0 * p_b1_c0/p_c0 == p_a0_b1_c0/p_c0)\n",
    "print(p_a0_c0/p_c0 * p_b0_c0/p_c0 == p_a0_b0_c0/p_c0)\n",
    "print(p_a1_c0/p_c0 * p_b0_c0/p_c0 == p_a1_b0_c0/p_c0)"
   ]
  },
  {
   "cell_type": "markdown",
   "id": "a6b988d0",
   "metadata": {},
   "source": [
    "All are true, so it holds."
   ]
  },
  {
   "cell_type": "markdown",
   "id": "0fd17f7e",
   "metadata": {},
   "source": [
    "# 8.4"
   ]
  },
  {
   "cell_type": "markdown",
   "id": "4c276e49",
   "metadata": {},
   "source": [
    "Note that $p(c|a)=p(c,a)/p(a)$ so $p(a)*p(c|a) = p(c,a)$  \n",
    "hence, $p(a)*p(c|a)*p(b|c) = p(c,a) * p(b,c)/p(c)$ "
   ]
  },
  {
   "cell_type": "code",
   "execution_count": 8,
   "id": "041324d9",
   "metadata": {},
   "outputs": [],
   "source": [
    "error = 10**(-10)"
   ]
  },
  {
   "cell_type": "code",
   "execution_count": 9,
   "id": "dbf8c24f",
   "metadata": {},
   "outputs": [
    {
     "name": "stdout",
     "output_type": "stream",
     "text": [
      "True\n",
      "True\n",
      "True\n",
      "True\n",
      "True\n",
      "True\n",
      "True\n",
      "True\n"
     ]
    }
   ],
   "source": [
    "print(p_a1_c1 * p_b1_c1/p_c1 - p_a1_b1_c1 < error)\n",
    "print(p_a0_c1 * p_b1_c1/p_c1 - p_a0_b1_c1 < error)\n",
    "print(p_a0_c1 * p_b0_c1/p_c1 - p_a0_b0_c1 < error)\n",
    "print(p_a1_c1 * p_b0_c1/p_c1 - p_a1_b0_c1 < error)\n",
    "print(p_a1_c0 * p_b1_c0/p_c0 - p_a1_b1_c0 < error)\n",
    "print(p_a0_c0 * p_b1_c0/p_c0 - p_a0_b1_c0 < error)\n",
    "print(p_a0_c0 * p_b0_c0/p_c0 - p_a0_b0_c0 < error)\n",
    "print(p_a1_c0 * p_b0_c0/p_c0 - p_a1_b0_c0 < error)"
   ]
  },
  {
   "cell_type": "markdown",
   "id": "2f100654",
   "metadata": {},
   "source": [
    "# Programming exercises"
   ]
  },
  {
   "cell_type": "markdown",
   "id": "8e8727b5",
   "metadata": {},
   "source": [
    "## A.\n",
    "Sample X and compute y"
   ]
  },
  {
   "cell_type": "code",
   "execution_count": 25,
   "id": "92ac3a28",
   "metadata": {},
   "outputs": [],
   "source": [
    "N = 20\n",
    "X = np.random.normal(size = (N,2))\n",
    "theta = np.array([-1, 1])\n",
    "d = len(theta)\n",
    "sigmasqr_y =0.1\n",
    "y = X@theta  + sigmasqr_y**0.5*np.random.randn(X.shape[0])"
   ]
  },
  {
   "cell_type": "markdown",
   "id": "92c52752",
   "metadata": {},
   "source": [
    "## B.\n",
    "Compute posterior distribution and plot the pdf in $[-3,3]^2$  \n",
    "See page 29 in lecture notes"
   ]
  },
  {
   "cell_type": "code",
   "execution_count": 26,
   "id": "645a8c44",
   "metadata": {},
   "outputs": [],
   "source": [
    "# Estimate mean and covariance matrix for theta\n",
    "C = np.linalg.inv(sigmasqr_y * np.eye(N) + X @X.T)\n",
    "mu = X.T@C@y\n",
    "Sigma = np.eye(d) - X.T@C@X"
   ]
  },
  {
   "cell_type": "code",
   "execution_count": 27,
   "metadata": {},
   "outputs": [
    {
     "data": {
      "text/plain": [
       "array([[0.00510777, 0.00010633],\n",
       "       [0.00010633, 0.00398863]])"
      ]
     },
     "execution_count": 27,
     "metadata": {},
     "output_type": "execute_result"
    }
   ],
   "source": [
    "Sigma"
   ]
  },
  {
   "cell_type": "code",
   "execution_count": 22,
   "id": "2a24394f",
   "metadata": {},
   "outputs": [],
   "source": [
    "# Estimate the pdf\n",
    "from scipy.stats import multivariate_normal\n",
    "mvn = multivariate_normal(mu,Sigma)"
   ]
  },
  {
   "cell_type": "code",
   "execution_count": 14,
   "id": "aa234756",
   "metadata": {},
   "outputs": [],
   "source": [
    "# Create a grid of the values, where we want to evaluate the pdf\n",
    "step = 0.02\n",
    "X,Y = np.mgrid[-3:3:step, -3:3:step]\n",
    "K = X.shape[0]\n",
    "xy = np.vstack((X.flatten(), Y.flatten())).T"
   ]
  },
  {
   "cell_type": "code",
   "execution_count": 15,
   "id": "3a42039b",
   "metadata": {},
   "outputs": [],
   "source": [
    "# Evaluate the pdf on the grid\n",
    "p = mvn.pdf(xy)\n",
    "p = p.reshape(K,K)"
   ]
  },
  {
   "cell_type": "code",
   "execution_count": 16,
   "id": "9c3c44a9",
   "metadata": {},
   "outputs": [
    {
     "data": {
      "image/png": "[encoded data removed]",
      "text/plain": [
       "<Figure size 432x288 with 2 Axes>"
      ]
     },
     "metadata": {
      "needs_background": "light"
     },
     "output_type": "display_data"
    }
   ],
   "source": [
    "# Plot\n",
    "plt.imshow(p.T, origin=\"lower\", extent=[-3,3,-3,3])\n",
    "plt.colorbar()\n",
    "plt.show()"
   ]
  },
  {
   "cell_type": "markdown",
   "id": "e14c4564",
   "metadata": {},
   "source": [
    "## C."
   ]
  },
  {
   "cell_type": "code",
   "execution_count": 17,
   "id": "5e36285a",
   "metadata": {},
   "outputs": [],
   "source": [
    "# Create a grid of the values, where we want to evaluate the pdf\n",
    "X,Y = np.mgrid[-3:3:step, -3:3:step]\n",
    "K = X.shape[0]\n",
    "xy = np.vstack((X.flatten(), Y.flatten())).T"
   ]
  },
  {
   "cell_type": "code",
   "execution_count": 18,
   "id": "0b80a510",
   "metadata": {},
   "outputs": [],
   "source": [
    "# Variance\n",
    "y_var = np.sum((xy@Sigma)*xy,axis=1) + sigmasqr_y\n",
    "y_var = y_var.reshape(K,K)"
   ]
  },
  {
   "cell_type": "code",
   "execution_count": 19,
   "id": "d4a2e79d",
   "metadata": {
    "scrolled": true
   },
   "outputs": [
    {
     "data": {
      "image/png": "[encoded data removed]",
      "text/plain": [
       "<Figure size 432x288 with 2 Axes>"
      ]
     },
     "metadata": {
      "needs_background": "light"
     },
     "output_type": "display_data"
    }
   ],
   "source": [
    "# Plot\n",
    "plt.imshow(y_var.T, origin=\"lower\", extent=[-3,3,-3,3])\n",
    "plt.colorbar()\n",
    "plt.show()"
   ]
  },
  {
   "cell_type": "markdown",
   "id": "0e6a4b40",
   "metadata": {},
   "source": [
    "## D."
   ]
  },
  {
   "cell_type": "code",
   "execution_count": 122,
   "id": "9fce0fb3",
   "metadata": {},
   "outputs": [],
   "source": [
    "N = 20\n",
    "sigmasqr_y = 0.1\n",
    "X = np.random.normal(size = (N,2))\n",
    "#X[:,0] *= 0.01**0.5\n",
    "#y = X@theta  + sigmasqr_y**0.5*np.random.randn(X.shape[0])\n",
    "\n",
    "SigmaX = np.eye(2)\n",
    "SigmaX[0,0] = 0.1\n",
    "mvnXD = multivariate_normal(np.zeros(2),SigmaX)\n",
    "\n",
    "X = mvnXD.rvs(size=N)\n",
    "y = X@theta  + sigmasqr_y**0.5*np.random.randn(X.shape[0])"
   ]
  },
  {
   "cell_type": "markdown",
   "id": "73a8c4e1",
   "metadata": {},
   "source": [
    "### D. (B)"
   ]
  },
  {
   "cell_type": "code",
   "execution_count": 123,
   "id": "c8e52c15",
   "metadata": {},
   "outputs": [],
   "source": [
    "# Estimate mean and covariance matrix for theta\n",
    "C = np.linalg.inv(sigmasqr_y * np.eye(N) + X @X.T)\n",
    "mu = X.T@C@y\n",
    "Sigma = np.eye(d) - X.T@C@X"
   ]
  },
  {
   "cell_type": "code",
   "execution_count": 131,
   "id": "6de5bf68",
   "metadata": {},
   "outputs": [
    {
     "name": "stdout",
     "output_type": "stream",
     "text": [
      "[-0.88278783  1.00633859]\n"
     ]
    },
    {
     "data": {
      "text/plain": [
       "array([[0.09753047, 0.00217732],\n",
       "       [0.00217732, 0.00318731]])"
      ]
     },
     "execution_count": 131,
     "metadata": {},
     "output_type": "execute_result"
    }
   ],
   "source": [
    "print(mu)\n",
    "Sigma"
   ]
  },
  {
   "cell_type": "code",
   "execution_count": 124,
   "id": "627e7d58",
   "metadata": {},
   "outputs": [],
   "source": [
    "# Create a grid of the values, where we want to evaluate the pdf\n",
    "X,Y = np.mgrid[-3:3:step, -3:3:step]\n",
    "K = X.shape[0]\n",
    "xy = np.vstack((X.flatten(), Y.flatten())).T"
   ]
  },
  {
   "cell_type": "code",
   "execution_count": 125,
   "id": "c9f7fdc1",
   "metadata": {},
   "outputs": [],
   "source": [
    "# Estimate the pdf\n",
    "mvn = multivariate_normal(mu,Sigma)\n",
    "# Evaluate the pdf on the grid\n",
    "p = mvn.pdf(xy)\n",
    "p = p.reshape(K,K)"
   ]
  },
  {
   "cell_type": "code",
   "execution_count": 126,
   "id": "e0d1cf14",
   "metadata": {},
   "outputs": [
    {
     "data": {
      "image/png": "[encoded data removed]",
      "text/plain": [
       "<Figure size 432x288 with 2 Axes>"
      ]
     },
     "metadata": {
      "needs_background": "light"
     },
     "output_type": "display_data"
    }
   ],
   "source": [
    "# Plot\n",
    "plt.imshow(p.T, origin=\"lower\", extent=[-3,3,-3,3])\n",
    "plt.colorbar()\n",
    "plt.show()"
   ]
  },
  {
   "cell_type": "markdown",
   "id": "dce3f9c8",
   "metadata": {},
   "source": [
    "### D. (C)"
   ]
  },
  {
   "cell_type": "code",
   "execution_count": 127,
   "id": "cf68774e",
   "metadata": {},
   "outputs": [],
   "source": [
    "# Create a grid of the values, where we want to evaluate the pdf\n",
    "X,Y = np.mgrid[-3:3:step, -3:3:step]\n",
    "K = X.shape[0]\n",
    "xy = np.vstack((X.flatten(), Y.flatten())).T"
   ]
  },
  {
   "cell_type": "code",
   "execution_count": 128,
   "id": "3feea48b",
   "metadata": {},
   "outputs": [],
   "source": [
    "# Variance\n",
    "y_var = np.sum((xy@Sigma)*xy,axis=1) + sigmasqr_y\n",
    "y_var = y_var.reshape(K,K)"
   ]
  },
  {
   "cell_type": "code",
   "execution_count": 129,
   "id": "e0754625",
   "metadata": {
    "scrolled": true
   },
   "outputs": [
    {
     "data": {
      "image/png": "[encoded data removed]",
      "text/plain": [
       "<Figure size 432x288 with 2 Axes>"
      ]
     },
     "metadata": {
      "needs_background": "light"
     },
     "output_type": "display_data"
    }
   ],
   "source": [
    "# Plot\n",
    "plt.imshow(y_var.T, origin=\"lower\", extent=[-3,3,-3,3])\n",
    "plt.colorbar()\n",
    "plt.show()"
   ]
  },
  {
   "cell_type": "markdown",
   "id": "b9408b3e",
   "metadata": {},
   "source": [
    "The variance of $x_1$ is now only 0.1, which makes it harder to estimate $\\mu_1$.  \n",
    "Decreasing the error term improves the estimation of mu."
   ]
  },
  {
   "cell_type": "markdown",
   "id": "7686df73",
   "metadata": {},
   "source": [
    "## Extra\n",
    "### Prior of theta"
   ]
  },
  {
   "cell_type": "code",
   "execution_count": 32,
   "id": "84e5ae4c",
   "metadata": {},
   "outputs": [
    {
     "name": "stdout",
     "output_type": "stream",
     "text": [
      "[-0.98927452  0.97956521]\n",
      "[[0.00510777 0.00010633]\n",
      " [0.00010633 0.00398863]]\n"
     ]
    }
   ],
   "source": [
    "print(mu)\n",
    "print(Sigma)"
   ]
  },
  {
   "cell_type": "code",
   "execution_count": 43,
   "id": "dcb7f4c5",
   "metadata": {},
   "outputs": [],
   "source": [
    "# Estimate the pdf\n",
    "mvn = multivariate_normal(theta,np.eye(2))\n",
    "# Evaluate the pdf on the grid\n",
    "p = mvn.pdf(xy)\n",
    "p = p.reshape(K,K)"
   ]
  },
  {
   "cell_type": "code",
   "execution_count": 44,
   "id": "e2fd7a21",
   "metadata": {},
   "outputs": [
    {
     "data": {
      "image/png": "[encoded data removed]",
      "text/plain": [
       "<Figure size 432x288 with 2 Axes>"
      ]
     },
     "metadata": {
      "needs_background": "light"
     },
     "output_type": "display_data"
    }
   ],
   "source": [
    "# Plot\n",
    "plt.imshow(p.T, origin=\"lower\", extent=[-3,3,-3,3])\n",
    "plt.colorbar()\n",
    "plt.show()"
   ]
  },
  {
   "cell_type": "code",
   "execution_count": null,
   "id": "c7bf8cfd",
   "metadata": {},
   "outputs": [],
   "source": []
  }
 ],
 "metadata": {
  "kernelspec": {
   "display_name": "Python 3.9.7 ('pml-env2')",
   "language": "python",
   "name": "python3"
  },
  "language_info": {
   "codemirror_mode": {
    "name": "ipython",
    "version": 3
   },
   "file_extension": ".py",
   "mimetype": "text/x-python",
   "name": "python",
   "nbconvert_exporter": "python",
   "pygments_lexer": "ipython3",
   "version": "3.9.7"
  },
  "vscode": {
   "interpreter": {
    "hash": "3d08e4f18bc401ba7a99c9eb02351518d315c4f9bdd03008a755c92232f7c69d"
   }
  }
 },
 "nbformat": 4,
 "nbformat_minor": 5
}
