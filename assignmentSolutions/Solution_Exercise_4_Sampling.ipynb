{
 "cells": [
  {
   "cell_type": "markdown",
   "id": "f92d6126",
   "metadata": {},
   "source": [
    "# Programming exercise:\n",
    "Unnormalized density given by: $\\tilde{p}(x) := e^{-x^2/2} \\left[sin(x)^2 + 3*cos(x)^2*sin(7*x)^2 + 1\\right]$,  $-3 <= x <= 3$  \n",
    "Task: Sample from this distribution and calculate $E(x^2)$.  \n",
    "a: Try rejection sampling with a uniform proposal  \n",
    "b: Try rejection sampling with a normal distribution  \n",
    "c: Try self-normalized importance sampling with a gaussian proposal  \n",
    "d: Try calculating it in Pyro using HMC or NUTS.  "
   ]
  },
  {
   "cell_type": "code",
   "execution_count": 7,
   "id": "5a2a68e7",
   "metadata": {},
   "outputs": [],
   "source": [
    "import numpy as np\n",
    "import matplotlib.pyplot as plt\n",
    "from scipy.stats import norm, uniform"
   ]
  },
  {
   "cell_type": "code",
   "execution_count": 8,
   "id": "911fdede",
   "metadata": {},
   "outputs": [],
   "source": [
    "def p_tilde(x):\n",
    "    return np.exp(-x**2.0/2.0) * ((np.sin(x))**2.0+3.0*(np.cos(x))**2.0*(np.sin(7.0*x))**2.0+1.0)"
   ]
  },
  {
   "cell_type": "markdown",
   "id": "2ca70d84",
   "metadata": {},
   "source": [
    "### a: Try rejection sampling with a uniform proposal"
   ]
  },
  {
   "cell_type": "markdown",
   "id": "8c0a058b",
   "metadata": {},
   "source": [
    "Choose k:  \n",
    "$\\tilde{p}(x) \\leq e^{0} \\left[ 1 + 3 \\cdot 1 \\cdot 1 + 1 \\right] = 5 $"
   ]
  },
  {
   "cell_type": "code",
   "execution_count": 9,
   "id": "71b559f0",
   "metadata": {},
   "outputs": [],
   "source": [
    "k_unif = 5*6 # as the interval [-3,3] is 6 long"
   ]
  },
  {
   "cell_type": "code",
   "execution_count": 46,
   "id": "82a896b7",
   "metadata": {},
   "outputs": [],
   "source": [
    "def rejection_sampling_uniform(n_samples = 5):    \n",
    "    Z = []\n",
    "    for i in range(n_samples):\n",
    "        z = np.random.uniform(-3,3) # proposal\n",
    "        u = np.random.uniform(0, k_unif*1/6) # u * k * q(z). Note that q(z)=1/6 for all z.\n",
    "        if(u <= p_tilde(z)):\n",
    "            Z.append(z)\n",
    "        # if(z == 0):\n",
    "        #     print(z)\n",
    "        # if(z == 1):\n",
    "        #     print(z)\n",
    "    return(Z)"
   ]
  },
  {
   "cell_type": "code",
   "execution_count": 100,
   "id": "28497efe",
   "metadata": {},
   "outputs": [],
   "source": [
    "rej_samp_unif_results = rejection_sampling_uniform(10000) # sample 10,000 times"
   ]
  },
  {
   "cell_type": "markdown",
   "id": "29832fc8",
   "metadata": {},
   "source": [
    "Estiamte for the second moment:"
   ]
  },
  {
   "cell_type": "code",
   "execution_count": 102,
   "id": "93ebd347",
   "metadata": {},
   "outputs": [
    {
     "data": {
      "text/plain": [
       "0.941"
      ]
     },
     "execution_count": 102,
     "metadata": {},
     "output_type": "execute_result"
    }
   ],
   "source": [
    "round(np.mean([w**2 for w in rej_samp_unif_results]), 3)"
   ]
  },
  {
   "cell_type": "markdown",
   "id": "87577352",
   "metadata": {},
   "source": [
    "### b: Try rejection sampling with a normal distribution  "
   ]
  },
  {
   "cell_type": "code",
   "execution_count": 79,
   "id": "6804e461",
   "metadata": {
    "scrolled": true
   },
   "outputs": [],
   "source": [
    "max_gauss = norm.pdf(0, scale=1.1)"
   ]
  },
  {
   "cell_type": "code",
   "execution_count": 80,
   "id": "9a0c9bbf",
   "metadata": {},
   "outputs": [
    {
     "data": {
      "image/png": "[encoded data removed]",
      "text/plain": [
       "<Figure size 432x288 with 1 Axes>"
      ]
     },
     "metadata": {
      "needs_background": "light"
     },
     "output_type": "display_data"
    }
   ],
   "source": [
    "x = np.linspace(-3, 3, 10000)\n",
    "plt.plot(x, p_tilde(x))\n",
    "k_gauss = 4/max_gauss\n",
    "plt.plot(x, norm.pdf(x, scale=1.1)*k_gauss)\n",
    "plt.ylim(0,4.3)\n",
    "plt.show()"
   ]
  },
  {
   "cell_type": "code",
   "execution_count": 81,
   "id": "79508f20",
   "metadata": {},
   "outputs": [],
   "source": [
    "def rejection_sampling_gaussian(n_samples = 5):\n",
    "    Z = []\n",
    "    for i in range(n_samples):\n",
    "        z = np.random.normal(loc=0, scale=1.1)\n",
    "        u = np.random.uniform(0, k_gauss*norm.pdf(z, loc=0, scale=1.1))\n",
    "        if(u <= p_tilde(z)):\n",
    "            Z.append(z)\n",
    "    return(Z)"
   ]
  },
  {
   "cell_type": "code",
   "execution_count": 82,
   "id": "fb739ae1",
   "metadata": {},
   "outputs": [],
   "source": [
    "rej_samp_gauss_results = rejection_sampling_gaussian(10000) # sample 10,000 times"
   ]
  },
  {
   "cell_type": "markdown",
   "id": "bdcea9d5",
   "metadata": {},
   "source": [
    "Estiamte for the second moment:"
   ]
  },
  {
   "cell_type": "code",
   "execution_count": 83,
   "id": "efc79b14",
   "metadata": {},
   "outputs": [
    {
     "data": {
      "text/plain": [
       "0.923"
      ]
     },
     "execution_count": 83,
     "metadata": {},
     "output_type": "execute_result"
    }
   ],
   "source": [
    "round(np.mean([w**2 for w in rej_samp_gauss_results]), 3)"
   ]
  },
  {
   "cell_type": "markdown",
   "id": "6f505be6",
   "metadata": {},
   "source": [
    "### c: Try self-normalized importance sampling with a gaussian proposal  \n"
   ]
  },
  {
   "cell_type": "code",
   "execution_count": 18,
   "id": "2dba1ea8",
   "metadata": {},
   "outputs": [],
   "source": [
    "def importance_sampling(n_samples = 5):\n",
    "    Z = np.random.normal(scale=1.1, size=n_samples)\n",
    "    r = [p_tilde(z)/norm.pdf(z, scale=1.1) for z in Z]\n",
    "    W = r / np.sum(r)\n",
    "    WfZ = [w * z**2 for w, z in zip(W, Z)]\n",
    "    return(WfZ)"
   ]
  },
  {
   "cell_type": "markdown",
   "id": "f23d7350",
   "metadata": {},
   "source": [
    "Estiamte for the second moment:"
   ]
  },
  {
   "cell_type": "code",
   "execution_count": 19,
   "id": "c9a12dd8",
   "metadata": {},
   "outputs": [
    {
     "data": {
      "text/plain": [
       "0.942"
      ]
     },
     "execution_count": 19,
     "metadata": {},
     "output_type": "execute_result"
    }
   ],
   "source": [
    "imp_res = importance_sampling(10000)\n",
    "imp_second_moment = np.sum(imp_res)\n",
    "round(imp_second_moment, 3)"
   ]
  },
  {
   "cell_type": "markdown",
   "id": "faa22d25",
   "metadata": {},
   "source": [
    "### d: Try calculating it in Pyro using HMC or NUTS.  "
   ]
  },
  {
   "cell_type": "code",
   "execution_count": 1,
   "id": "ff5d3ed6",
   "metadata": {},
   "outputs": [],
   "source": [
    "import pyro\n",
    "import torch\n",
    "import pyro.distributions as pdist\n",
    "import torch.distributions as tdist\n",
    "import arviz\n",
    "import numpy as np"
   ]
  },
  {
   "cell_type": "markdown",
   "id": "ee6f2c8b",
   "metadata": {},
   "source": [
    "We implement our own MyDensity class to specify the density we want to sample from."
   ]
  },
  {
   "cell_type": "code",
   "execution_count": 2,
   "id": "025d936a",
   "metadata": {},
   "outputs": [],
   "source": [
    "# We need constraints to specify the integration interval\n",
    "from torch.distributions import constraints\n",
    "\n",
    "\n",
    "class MyDensity(pdist.TorchDistribution):\n",
    "    # The integration interval\n",
    "    support = constraints.interval(torch.tensor(-3), torch.tensor(3))\n",
    "    # Constraint for the starting value used in the sampling \n",
    "    # (should be within integration interval)\n",
    "    arg_constraints = {\"start\": support}\n",
    "\n",
    "    def __init__(self, start=torch.tensor(0.0)):\n",
    "      # start = starting value for HMC sampling, default 0\n",
    "      self.start = start\n",
    "      super(pdist.TorchDistribution, self).__init__()\n",
    "\n",
    "    def sample(self, sample_shape=torch.Size()):\n",
    "        # This is only used to start the HMC sampling\n",
    "        # It simply returns the starting value for the sampling\n",
    "        return self.start\n",
    "\n",
    "    def log_prob(self, x):\n",
    "        # Return log of the (unnormalized) density\n",
    "        return -x**2.0/2.0 + torch.log( ((torch.sin(x))**2.0+3.0*(torch.cos(x))**2.0*(torch.sin(7.0*x))**2.0+1.0) )\n"
   ]
  },
  {
   "cell_type": "code",
   "execution_count": 3,
   "id": "1c13e256",
   "metadata": {},
   "outputs": [],
   "source": [
    "# Specify the model, which in our case is just our MyDensity distribution\n",
    "\n",
    "def model():\n",
    "    x=pyro.sample(\"x\", MyDensity())"
   ]
  },
  {
   "cell_type": "code",
   "execution_count": 4,
   "id": "d6f23c6c",
   "metadata": {},
   "outputs": [
    {
     "name": "stderr",
     "output_type": "stream",
     "text": [
      "Sample: 100%|██████████| 2500/2500 [00:06, 367.95it/s, step size=1.60e-01, acc. prob=0.833]\n"
     ]
    }
   ],
   "source": [
    "# Run HMC / NUTS\n",
    "nuts_kernel=pyro.infer.NUTS(model, jit_compile=True)\n",
    "# jupyter notebook seems not to be able to do parallel, so I only use 1 chain in this example.\n",
    "mcmc=pyro.infer.MCMC(nuts_kernel, num_samples=2000, num_chains=1, warmup_steps=500)\n",
    "mcmc.run()"
   ]
  },
  {
   "cell_type": "code",
   "execution_count": 5,
   "id": "b51696b7",
   "metadata": {},
   "outputs": [
    {
     "name": "stdout",
     "output_type": "stream",
     "text": [
      "1.13902747631073\n"
     ]
    }
   ],
   "source": [
    "# Get the samples\n",
    "samples = mcmc.get_samples()[\"x\"]\n",
    "\n",
    "# Calculate E(x^2)\n",
    "print(torch.mean(samples*samples).item())"
   ]
  },
  {
   "cell_type": "markdown",
   "id": "034bfc80",
   "metadata": {},
   "source": [
    "Check the quality of the sampling (ESS, R-hat) and plot the empirical density with Arviz."
   ]
  },
  {
   "cell_type": "code",
   "execution_count": 20,
   "id": "3e5db9c9",
   "metadata": {},
   "outputs": [
    {
     "name": "stderr",
     "output_type": "stream",
     "text": [
      "arviz - WARNING - Shape validation failed: input_shape: (1, 2000), minimum_shape: (chains=2, draws=4)\n"
     ]
    },
    {
     "name": "stdout",
     "output_type": "stream",
     "text": [
      "    mean     sd  hdi_3%  hdi_97%  mcse_mean  mcse_sd  ess_bulk  ess_tail  \\\n",
      "x -0.165  1.055  -2.152    1.968       0.09    0.065     143.0     116.0   \n",
      "\n",
      "   r_hat  \n",
      "x    NaN  \n"
     ]
    },
    {
     "data": {
      "image/png": "[encoded data removed]",
      "text/plain": [
       "<Figure size 432x288 with 1 Axes>"
      ]
     },
     "metadata": {
      "needs_background": "light"
     },
     "output_type": "display_data"
    }
   ],
   "source": [
    "data = arviz.from_pyro(mcmc)\n",
    "summary = arviz.summary(data)\n",
    "print(summary) # because we only used one chain, r_hat cannot be evauated.\n",
    "arviz.plot_posterior(data)\n",
    "plt.show()"
   ]
  },
  {
   "cell_type": "markdown",
   "id": "ed794f78",
   "metadata": {},
   "source": [
    "### e: Repeat the three methods for sample size 10, 100, and 1000. Plot the mean and standard deviation for each method and sample size in a single plot. Which method seems better?"
   ]
  },
  {
   "cell_type": "code",
   "execution_count": 21,
   "id": "ee6f55b1",
   "metadata": {},
   "outputs": [],
   "source": [
    "def HMC(n_samples):\n",
    "    # Run HMC / NUTS\n",
    "    nuts_kernel=pyro.infer.NUTS(model, jit_compile=True)\n",
    "    mcmc=pyro.infer.MCMC(nuts_kernel, num_samples=n_samples, num_chains=1, warmup_steps=0)\n",
    "    mcmc.run()\n",
    "    \n",
    "    # Get the samples\n",
    "    samples = mcmc.get_samples()[\"x\"]\n",
    "\n",
    "    # Calculate E(x^2)\n",
    "    return(torch.mean(samples*samples).item())"
   ]
  },
  {
   "cell_type": "code",
   "execution_count": 22,
   "id": "c49e0742",
   "metadata": {},
   "outputs": [
    {
     "name": "stderr",
     "output_type": "stream",
     "text": [
      "Sample: 100%|██████████| 10/10 [00:00, 163.47it/s, step size=2.50e-01, acc. prob=0.900]\n",
      "Sample: 100%|██████████| 100/100 [00:00, 435.64it/s, step size=2.50e-01, acc. prob=0.661]\n",
      "Sample: 100%|██████████| 1000/1000 [00:01, 730.37it/s, step size=5.00e-01, acc. prob=0.357]\n",
      "Sample: 100%|██████████| 10/10 [00:00, 183.76it/s, step size=5.00e-01, acc. prob=0.132]\n",
      "Sample: 100%|██████████| 100/100 [00:00, 399.10it/s, step size=1.25e-01, acc. prob=0.828]\n",
      "Sample: 100%|██████████| 1000/1000 [00:01, 806.65it/s, step size=5.00e-01, acc. prob=0.361]\n",
      "Sample: 100%|██████████| 10/10 [00:00, 147.90it/s, step size=2.50e-01, acc. prob=0.670]\n",
      "Sample: 100%|██████████| 100/100 [00:00, 342.01it/s, step size=1.25e-01, acc. prob=0.727]\n",
      "Sample: 100%|██████████| 1000/1000 [00:01, 535.57it/s, step size=2.50e-01, acc. prob=0.548]\n",
      "Sample: 100%|██████████| 10/10 [00:00, 174.97it/s, step size=2.00e+00, acc. prob=0.249]\n",
      "Sample: 100%|██████████| 100/100 [00:00, 641.87it/s, step size=2.00e+00, acc. prob=0.069]\n",
      "Sample: 100%|██████████| 1000/1000 [00:01, 537.78it/s, step size=2.50e-01, acc. prob=0.562]\n",
      "Sample: 100%|██████████| 10/10 [00:00, 184.45it/s, step size=2.00e+00, acc. prob=0.125]\n",
      "Sample: 100%|██████████| 100/100 [00:00, 414.54it/s, step size=2.50e-01, acc. prob=0.619]\n",
      "Sample: 100%|██████████| 1000/1000 [00:01, 585.58it/s, step size=2.50e-01, acc. prob=0.612]\n",
      "Sample: 100%|██████████| 10/10 [00:00, 174.30it/s, step size=2.00e+00, acc. prob=0.056]\n",
      "Sample: 100%|██████████| 100/100 [00:00, 695.90it/s, step size=2.00e+00, acc. prob=0.061]\n",
      "Sample: 100%|██████████| 1000/1000 [00:02, 475.33it/s, step size=1.25e-01, acc. prob=0.798]\n",
      "Sample: 100%|██████████| 10/10 [00:00, 162.66it/s, step size=5.00e-01, acc. prob=0.810]\n",
      "Sample: 100%|██████████| 100/100 [00:00, 544.88it/s, step size=5.00e-01, acc. prob=0.469]\n",
      "Sample: 100%|██████████| 1000/1000 [00:01, 550.88it/s, step size=2.50e-01, acc. prob=0.585]\n",
      "Sample: 100%|██████████| 10/10 [00:00, 171.96it/s, step size=1.25e-01, acc. prob=0.884]\n",
      "Sample: 100%|██████████| 100/100 [00:00, 134.16it/s, step size=3.12e-02, acc. prob=0.994]\n",
      "Sample: 100%|██████████| 1000/1000 [00:00, 1077.75it/s, step size=4.00e+00, acc. prob=0.010]\n",
      "Sample: 100%|██████████| 10/10 [00:00, 125.26it/s, step size=1.25e-01, acc. prob=0.898]\n",
      "Sample: 100%|██████████| 100/100 [00:00, 420.52it/s, step size=2.50e-01, acc. prob=0.527]\n",
      "Sample: 100%|██████████| 1000/1000 [00:01, 726.99it/s, step size=5.00e-01, acc. prob=0.340]\n",
      "Sample: 100%|██████████| 10/10 [00:00, 151.05it/s, step size=2.50e-01, acc. prob=0.235]\n",
      "Sample: 100%|██████████| 100/100 [00:00, 624.88it/s, step size=5.00e-01, acc. prob=0.423]\n",
      "Sample: 100%|██████████| 1000/1000 [00:01, 772.99it/s, step size=5.00e-01, acc. prob=0.355]\n",
      "Sample: 100%|██████████| 10/10 [00:00, 166.54it/s, step size=2.00e+00, acc. prob=0.052]\n",
      "Sample: 100%|██████████| 100/100 [00:00, 388.79it/s, step size=2.50e-01, acc. prob=0.506]\n",
      "Sample: 100%|██████████| 1000/1000 [00:02, 427.69it/s, step size=1.25e-01, acc. prob=0.800]\n",
      "Sample: 100%|██████████| 10/10 [00:00, 164.76it/s, step size=4.00e+00, acc. prob=0.002]\n",
      "Sample: 100%|██████████| 100/100 [00:00, 685.83it/s, step size=2.00e+00, acc. prob=0.109]\n",
      "Sample: 100%|██████████| 1000/1000 [00:01, 949.51it/s, step size=2.00e+00, acc. prob=0.050]\n",
      "Sample: 100%|██████████| 10/10 [00:00, 175.23it/s, step size=2.50e-01, acc. prob=0.892]\n",
      "Sample: 100%|██████████| 100/100 [00:00, 410.31it/s, step size=2.50e-01, acc. prob=0.540]\n",
      "Sample: 100%|██████████| 1000/1000 [00:01, 502.62it/s, step size=2.50e-01, acc. prob=0.561]\n",
      "Sample: 100%|██████████| 10/10 [00:00, 150.95it/s, step size=1.25e-01, acc. prob=0.782]\n",
      "Sample: 100%|██████████| 100/100 [00:00, 441.00it/s, step size=2.50e-01, acc. prob=0.609]\n",
      "Sample: 100%|██████████| 1000/1000 [00:01, 540.27it/s, step size=2.50e-01, acc. prob=0.550]\n",
      "Sample: 100%|██████████| 10/10 [00:00, 143.30it/s, step size=1.25e-01, acc. prob=0.842]\n",
      "Sample: 100%|██████████| 100/100 [00:00, 807.95it/s, step size=4.00e+00, acc. prob=0.026]\n",
      "Sample: 100%|██████████| 1000/1000 [00:02, 425.34it/s, step size=1.25e-01, acc. prob=0.800]\n",
      "Sample: 100%|██████████| 10/10 [00:00, 156.62it/s, step size=2.50e-01, acc. prob=0.689]\n",
      "Sample: 100%|██████████| 100/100 [00:00, 620.01it/s, step size=2.00e+00, acc. prob=0.116]\n",
      "Sample: 100%|██████████| 1000/1000 [00:00, 1005.64it/s, step size=2.00e+00, acc. prob=0.059]\n",
      "Sample: 100%|██████████| 10/10 [00:00, 152.06it/s, step size=1.25e-01, acc. prob=0.799]\n",
      "Sample: 100%|██████████| 100/100 [00:00, 609.46it/s, step size=5.00e-01, acc. prob=0.379]\n",
      "Sample: 100%|██████████| 1000/1000 [00:00, 1024.91it/s, step size=2.00e+00, acc. prob=0.035]\n",
      "Sample: 100%|██████████| 10/10 [00:00, 177.56it/s, step size=5.00e-01, acc. prob=0.399]\n",
      "Sample: 100%|██████████| 100/100 [00:00, 738.74it/s, step size=2.00e+00, acc. prob=0.106]\n",
      "Sample: 100%|██████████| 1000/1000 [00:01, 763.49it/s, step size=5.00e-01, acc. prob=0.372]\n",
      "Sample: 100%|██████████| 10/10 [00:00, 164.21it/s, step size=2.50e-01, acc. prob=0.763]\n",
      "Sample: 100%|██████████| 100/100 [00:00, 681.85it/s, step size=2.00e+00, acc. prob=0.094]\n",
      "Sample: 100%|██████████| 1000/1000 [00:02, 445.74it/s, step size=1.25e-01, acc. prob=0.804]\n",
      "Sample: 100%|██████████| 10/10 [00:00, 151.43it/s, step size=1.25e-01, acc. prob=0.872]\n",
      "Sample: 100%|██████████| 100/100 [00:00, 571.18it/s, step size=5.00e-01, acc. prob=0.277]\n",
      "Sample: 100%|██████████| 1000/1000 [00:03, 284.92it/s, step size=6.25e-02, acc. prob=0.968]\n"
     ]
    }
   ],
   "source": [
    "samples_sizes = [10, 100, 1000]\n",
    "K = 20\n",
    "results = np.zeros((3,4,K))\n",
    "for k in range(K):\n",
    "    for i in range(3):\n",
    "        n = samples_sizes[i]\n",
    "        # for n = 10, we sometimes get no accepted samples with uniform proposal.\n",
    "        res_uni = rejection_sampling_uniform(n)\n",
    "        if(len(res_uni)>0):\n",
    "            results[i,0,k] = np.mean([w**2 for w in res_uni])\n",
    "        else:\n",
    "            results[i,0,k] = 0\n",
    "        results[i,1,k] = np.mean([w**2 for w in rejection_sampling_gaussian(n)])\n",
    "        results[i,2,k] = np.sum(importance_sampling(n))\n",
    "        results[i,3,k] = HMC(n)"
   ]
  },
  {
   "cell_type": "code",
   "execution_count": 109,
   "id": "b3e6f95b",
   "metadata": {},
   "outputs": [
    {
     "data": {
      "image/png": "[encoded data removed]",
      "text/plain": [
       "<Figure size 432x288 with 1 Axes>"
      ]
     },
     "metadata": {
      "needs_background": "light"
     },
     "output_type": "display_data"
    }
   ],
   "source": [
    "x = np.array([1, 10, 100])*10\n",
    "y = np.mean(results[:,0,:], axis=1)\n",
    "e = np.std(results[:,0,:], axis=1)\n",
    "plt.errorbar(x, y, e, linestyle='None', marker='o', capsize=5, markersize=3, label='Uniform')\n",
    "\n",
    "x = x + 10\n",
    "y = np.mean(results[:,1,:], axis=1)\n",
    "e = np.std(results[:,1,:], axis=1)\n",
    "plt.errorbar(x, y, e, linestyle='None', marker='o', capsize=5, markersize=3, label='Gaussian')\n",
    "\n",
    "x = x + 10\n",
    "y = np.mean(results[:,2,:], axis=1)\n",
    "e = np.std(results[:,2,:], axis=1)\n",
    "plt.errorbar(x, y, e, linestyle='None', marker='o', capsize=5, markersize=3, label='Importance')\n",
    "\n",
    "x = x + 10\n",
    "y = np.mean(results[:,3,:], axis=1)\n",
    "e = np.std(results[:,3,:], axis=1)\n",
    "plt.errorbar(x, y, e, linestyle='None', marker='o', capsize=5, markersize=3, label='HMC')\n",
    "\n",
    "\n",
    "plt.axhline(np.mean([np.mean(results[2,0,:]), np.mean(results[2,1,:]), np.mean(results[2,2,:])]), \n",
    "            c='black', linewidth=1, linestyle=\"--\")\n",
    "plt.legend(loc='upper right', shadow=True, fontsize='x-large')\n",
    "plt.xlabel(\"(sample size)\")\n",
    "plt.show()"
   ]
  },
  {
   "cell_type": "markdown",
   "id": "1a86f96d",
   "metadata": {},
   "source": [
    "Importance sampling seem to be the best.  \n",
    "HMC dosn't perform good compared to the others. This is probably because the samples in HMC are correlated, so the effective sample size is small. Also we only have one dimention and a fairly simple distribution $\\tilde{p}$. Note also that the effective samples size between the different methods differ."
   ]
  },
  {
   "cell_type": "code",
   "execution_count": null,
   "id": "e7ea22b0",
   "metadata": {},
   "outputs": [],
   "source": []
  }
 ],
 "metadata": {
  "kernelspec": {
   "display_name": "Python 3.9.7 ('pml-env2')",
   "language": "python",
   "name": "python3"
  },
  "language_info": {
   "codemirror_mode": {
    "name": "ipython",
    "version": 3
   },
   "file_extension": ".py",
   "mimetype": "text/x-python",
   "name": "python",
   "nbconvert_exporter": "python",
   "pygments_lexer": "ipython3",
   "version": "3.9.7"
  },
  "vscode": {
   "interpreter": {
    "hash": "3d08e4f18bc401ba7a99c9eb02351518d315c4f9bdd03008a755c92232f7c69d"
   }
  }
 },
 "nbformat": 4,
 "nbformat_minor": 5
}
